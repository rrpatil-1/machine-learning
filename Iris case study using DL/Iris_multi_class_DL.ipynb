{
  "nbformat": 4,
  "nbformat_minor": 0,
  "metadata": {
    "colab": {
      "name": "Iris_multi_class_DL.ipynb",
      "provenance": [],
      "collapsed_sections": []
    },
    "kernelspec": {
      "name": "python3",
      "display_name": "Python 3"
    },
    "language_info": {
      "name": "python"
    }
  },
  "cells": [
    {
      "cell_type": "code",
      "metadata": {
        "id": "OM7FWdlI-8aC"
      },
      "source": [
        "import pandas as pd\n",
        "import numpy as np\n",
        "import matplotlib.pyplot as plt\n"
      ],
      "execution_count": 27,
      "outputs": []
    },
    {
      "cell_type": "code",
      "metadata": {
        "colab": {
          "base_uri": "https://localhost:8080/",
          "height": 204
        },
        "id": "AGszc2UT_ZKq",
        "outputId": "a43836d9-f461-42a2-fa61-e1f355feb4da"
      },
      "source": [
        "df=pd.read_csv(\"/content/drive/MyDrive/DeepLearning/Iris.csv\")\n",
        "df.head()"
      ],
      "execution_count": 28,
      "outputs": [
        {
          "output_type": "execute_result",
          "data": {
            "text/html": [
              "<div>\n",
              "<style scoped>\n",
              "    .dataframe tbody tr th:only-of-type {\n",
              "        vertical-align: middle;\n",
              "    }\n",
              "\n",
              "    .dataframe tbody tr th {\n",
              "        vertical-align: top;\n",
              "    }\n",
              "\n",
              "    .dataframe thead th {\n",
              "        text-align: right;\n",
              "    }\n",
              "</style>\n",
              "<table border=\"1\" class=\"dataframe\">\n",
              "  <thead>\n",
              "    <tr style=\"text-align: right;\">\n",
              "      <th></th>\n",
              "      <th>Id</th>\n",
              "      <th>SepalLengthCm</th>\n",
              "      <th>SepalWidthCm</th>\n",
              "      <th>PetalLengthCm</th>\n",
              "      <th>PetalWidthCm</th>\n",
              "      <th>Species</th>\n",
              "    </tr>\n",
              "  </thead>\n",
              "  <tbody>\n",
              "    <tr>\n",
              "      <th>0</th>\n",
              "      <td>1</td>\n",
              "      <td>5.1</td>\n",
              "      <td>3.5</td>\n",
              "      <td>1.4</td>\n",
              "      <td>0.2</td>\n",
              "      <td>Iris-setosa</td>\n",
              "    </tr>\n",
              "    <tr>\n",
              "      <th>1</th>\n",
              "      <td>2</td>\n",
              "      <td>4.9</td>\n",
              "      <td>3.0</td>\n",
              "      <td>1.4</td>\n",
              "      <td>0.2</td>\n",
              "      <td>Iris-setosa</td>\n",
              "    </tr>\n",
              "    <tr>\n",
              "      <th>2</th>\n",
              "      <td>3</td>\n",
              "      <td>4.7</td>\n",
              "      <td>3.2</td>\n",
              "      <td>1.3</td>\n",
              "      <td>0.2</td>\n",
              "      <td>Iris-setosa</td>\n",
              "    </tr>\n",
              "    <tr>\n",
              "      <th>3</th>\n",
              "      <td>4</td>\n",
              "      <td>4.6</td>\n",
              "      <td>3.1</td>\n",
              "      <td>1.5</td>\n",
              "      <td>0.2</td>\n",
              "      <td>Iris-setosa</td>\n",
              "    </tr>\n",
              "    <tr>\n",
              "      <th>4</th>\n",
              "      <td>5</td>\n",
              "      <td>5.0</td>\n",
              "      <td>3.6</td>\n",
              "      <td>1.4</td>\n",
              "      <td>0.2</td>\n",
              "      <td>Iris-setosa</td>\n",
              "    </tr>\n",
              "  </tbody>\n",
              "</table>\n",
              "</div>"
            ],
            "text/plain": [
              "   Id  SepalLengthCm  SepalWidthCm  PetalLengthCm  PetalWidthCm      Species\n",
              "0   1            5.1           3.5            1.4           0.2  Iris-setosa\n",
              "1   2            4.9           3.0            1.4           0.2  Iris-setosa\n",
              "2   3            4.7           3.2            1.3           0.2  Iris-setosa\n",
              "3   4            4.6           3.1            1.5           0.2  Iris-setosa\n",
              "4   5            5.0           3.6            1.4           0.2  Iris-setosa"
            ]
          },
          "metadata": {
            "tags": []
          },
          "execution_count": 28
        }
      ]
    },
    {
      "cell_type": "code",
      "metadata": {
        "id": "PRhtmhzscN8j"
      },
      "source": [
        "#drop unwanted column\n",
        "df.drop('Id',axis=1,inplace=True)"
      ],
      "execution_count": 29,
      "outputs": []
    },
    {
      "cell_type": "code",
      "metadata": {
        "id": "dwApFdRl-Gcc"
      },
      "source": [
        ""
      ],
      "execution_count": 29,
      "outputs": []
    },
    {
      "cell_type": "code",
      "metadata": {
        "colab": {
          "base_uri": "https://localhost:8080/"
        },
        "id": "cY2Cb4HR_h4D",
        "outputId": "11009f73-0f8c-4c5e-9db3-6639ea4cfe4e"
      },
      "source": [
        "#How many class in target variable species\n",
        "df[\"Species\"].unique()\n"
      ],
      "execution_count": 30,
      "outputs": [
        {
          "output_type": "execute_result",
          "data": {
            "text/plain": [
              "array(['Iris-setosa', 'Iris-versicolor', 'Iris-virginica'], dtype=object)"
            ]
          },
          "metadata": {
            "tags": []
          },
          "execution_count": 30
        }
      ]
    },
    {
      "cell_type": "code",
      "metadata": {
        "colab": {
          "base_uri": "https://localhost:8080/"
        },
        "id": "jbSWWXS-AdZU",
        "outputId": "caaab771-9c15-42f8-c4a5-360c9da839f4"
      },
      "source": [
        "#How many samples in this multiple class \n",
        "df[\"Species\"].value_counts()"
      ],
      "execution_count": 31,
      "outputs": [
        {
          "output_type": "execute_result",
          "data": {
            "text/plain": [
              "Iris-setosa        50\n",
              "Iris-virginica     50\n",
              "Iris-versicolor    50\n",
              "Name: Species, dtype: int64"
            ]
          },
          "metadata": {
            "tags": []
          },
          "execution_count": 31
        }
      ]
    },
    {
      "cell_type": "code",
      "metadata": {
        "colab": {
          "base_uri": "https://localhost:8080/",
          "height": 279
        },
        "id": "u1rkqvb2AeIJ",
        "outputId": "0abb95ba-fcdc-4a52-831e-efff229d820c"
      },
      "source": [
        "#How many samples in this multiple class represent in visualize form\n",
        "import seaborn as sns\n",
        "sns.countplot(data=df,x=\"Species\")\n",
        "c=df[\"Species\"].value_counts()\n",
        "plt.yticks(c)\n",
        "plt.show()"
      ],
      "execution_count": 32,
      "outputs": [
        {
          "output_type": "display_data",
          "data": {
            "image/png": "[encoded data removed]",
            "text/plain": [
              "<Figure size 432x288 with 1 Axes>"
            ]
          },
          "metadata": {
            "tags": [],
            "needs_background": "light"
          }
        }
      ]
    },
    {
      "cell_type": "code",
      "metadata": {
        "id": "6Lv7BQJ3A7w8",
        "colab": {
          "base_uri": "https://localhost:8080/"
        },
        "outputId": "225df903-d86a-48a9-88e2-f13fe6210361"
      },
      "source": [
        "#Check null values\n",
        "df.isnull().sum()"
      ],
      "execution_count": 33,
      "outputs": [
        {
          "output_type": "execute_result",
          "data": {
            "text/plain": [
              "SepalLengthCm    0\n",
              "SepalWidthCm     0\n",
              "PetalLengthCm    0\n",
              "PetalWidthCm     0\n",
              "Species          0\n",
              "dtype: int64"
            ]
          },
          "metadata": {
            "tags": []
          },
          "execution_count": 33
        }
      ]
    },
    {
      "cell_type": "code",
      "metadata": {
        "colab": {
          "base_uri": "https://localhost:8080/",
          "height": 338
        },
        "id": "DrYL375Z-Mhv",
        "outputId": "96508d6f-3913-4c97-c57b-153eb18e6707"
      },
      "source": [
        "#visulize\n",
        "sns.heatmap(df.isnull())\n",
        "plt.show()"
      ],
      "execution_count": 34,
      "outputs": [
        {
          "output_type": "display_data",
          "data": {
            "image/png": "[encoded data removed]",
            "text/plain": [
              "<Figure size 432x288 with 2 Axes>"
            ]
          },
          "metadata": {
            "tags": [],
            "needs_background": "light"
          }
        }
      ]
    },
    {
      "cell_type": "code",
      "metadata": {
        "colab": {
          "base_uri": "https://localhost:8080/"
        },
        "id": "i9fdgq4OwxgT",
        "outputId": "19ac59db-fe05-4e12-eefb-a9b41c673dcc"
      },
      "source": [
        "df.info()"
      ],
      "execution_count": 35,
      "outputs": [
        {
          "output_type": "stream",
          "text": [
            "<class 'pandas.core.frame.DataFrame'>\n",
            "RangeIndex: 150 entries, 0 to 149\n",
            "Data columns (total 5 columns):\n",
            " #   Column         Non-Null Count  Dtype  \n",
            "---  ------         --------------  -----  \n",
            " 0   SepalLengthCm  150 non-null    float64\n",
            " 1   SepalWidthCm   150 non-null    float64\n",
            " 2   PetalLengthCm  150 non-null    float64\n",
            " 3   PetalWidthCm   150 non-null    float64\n",
            " 4   Species        150 non-null    object \n",
            "dtypes: float64(4), object(1)\n",
            "memory usage: 6.0+ KB\n"
          ],
          "name": "stdout"
        }
      ]
    },
    {
      "cell_type": "code",
      "metadata": {
        "colab": {
          "base_uri": "https://localhost:8080/",
          "height": 204
        },
        "id": "zR_EZcqyxTks",
        "outputId": "a11f0c1d-ef2d-499e-acee-159e9d232c49"
      },
      "source": [
        "#apply Label Encoder on species target column : - means to convert object type data into numeric type\n",
        "from sklearn.preprocessing import LabelEncoder\n",
        "\n",
        "#create object of LabelEncoder class\n",
        "le=LabelEncoder()\n",
        "df[\"Species\"]=le.fit_transform(df[\"Species\"])\n",
        "#check\n",
        "df.head()"
      ],
      "execution_count": 36,
      "outputs": [
        {
          "output_type": "execute_result",
          "data": {
            "text/html": [
              "<div>\n",
              "<style scoped>\n",
              "    .dataframe tbody tr th:only-of-type {\n",
              "        vertical-align: middle;\n",
              "    }\n",
              "\n",
              "    .dataframe tbody tr th {\n",
              "        vertical-align: top;\n",
              "    }\n",
              "\n",
              "    .dataframe thead th {\n",
              "        text-align: right;\n",
              "    }\n",
              "</style>\n",
              "<table border=\"1\" class=\"dataframe\">\n",
              "  <thead>\n",
              "    <tr style=\"text-align: right;\">\n",
              "      <th></th>\n",
              "      <th>SepalLengthCm</th>\n",
              "      <th>SepalWidthCm</th>\n",
              "      <th>PetalLengthCm</th>\n",
              "      <th>PetalWidthCm</th>\n",
              "      <th>Species</th>\n",
              "    </tr>\n",
              "  </thead>\n",
              "  <tbody>\n",
              "    <tr>\n",
              "      <th>0</th>\n",
              "      <td>5.1</td>\n",
              "      <td>3.5</td>\n",
              "      <td>1.4</td>\n",
              "      <td>0.2</td>\n",
              "      <td>0</td>\n",
              "    </tr>\n",
              "    <tr>\n",
              "      <th>1</th>\n",
              "      <td>4.9</td>\n",
              "      <td>3.0</td>\n",
              "      <td>1.4</td>\n",
              "      <td>0.2</td>\n",
              "      <td>0</td>\n",
              "    </tr>\n",
              "    <tr>\n",
              "      <th>2</th>\n",
              "      <td>4.7</td>\n",
              "      <td>3.2</td>\n",
              "      <td>1.3</td>\n",
              "      <td>0.2</td>\n",
              "      <td>0</td>\n",
              "    </tr>\n",
              "    <tr>\n",
              "      <th>3</th>\n",
              "      <td>4.6</td>\n",
              "      <td>3.1</td>\n",
              "      <td>1.5</td>\n",
              "      <td>0.2</td>\n",
              "      <td>0</td>\n",
              "    </tr>\n",
              "    <tr>\n",
              "      <th>4</th>\n",
              "      <td>5.0</td>\n",
              "      <td>3.6</td>\n",
              "      <td>1.4</td>\n",
              "      <td>0.2</td>\n",
              "      <td>0</td>\n",
              "    </tr>\n",
              "  </tbody>\n",
              "</table>\n",
              "</div>"
            ],
            "text/plain": [
              "   SepalLengthCm  SepalWidthCm  PetalLengthCm  PetalWidthCm  Species\n",
              "0            5.1           3.5            1.4           0.2        0\n",
              "1            4.9           3.0            1.4           0.2        0\n",
              "2            4.7           3.2            1.3           0.2        0\n",
              "3            4.6           3.1            1.5           0.2        0\n",
              "4            5.0           3.6            1.4           0.2        0"
            ]
          },
          "metadata": {
            "tags": []
          },
          "execution_count": 36
        }
      ]
    },
    {
      "cell_type": "code",
      "metadata": {
        "colab": {
          "base_uri": "https://localhost:8080/"
        },
        "id": "W84ZUOEr2FKj",
        "outputId": "e40e423f-02f2-4d71-b504-953623a2bb53"
      },
      "source": [
        "\n",
        "\n",
        "df[\"Species\"].value_counts()"
      ],
      "execution_count": 37,
      "outputs": [
        {
          "output_type": "execute_result",
          "data": {
            "text/plain": [
              "2    50\n",
              "1    50\n",
              "0    50\n",
              "Name: Species, dtype: int64"
            ]
          },
          "metadata": {
            "tags": []
          },
          "execution_count": 37
        }
      ]
    },
    {
      "cell_type": "code",
      "metadata": {
        "id": "ha3LEx6q2JFI"
      },
      "source": [
        "#Separate input and output from dataset\n",
        "X=df.drop(\"Species\",axis=1)\n",
        "Y=df[\"Species\"]"
      ],
      "execution_count": 38,
      "outputs": []
    },
    {
      "cell_type": "code",
      "metadata": {
        "id": "NTWqvtGx2NWl"
      },
      "source": [
        "from sklearn.model_selection import train_test_split\n",
        "X_train,X_test,Y_train,Y_test=train_test_split(X,Y,test_size=0.3,random_state=1,stratify=Y)"
      ],
      "execution_count": 39,
      "outputs": []
    },
    {
      "cell_type": "code",
      "metadata": {
        "id": "yxAL-XBM2Q5d"
      },
      "source": [
        "#apply scaling on X_train and X_test data\n",
        "from sklearn.preprocessing import StandardScaler\n",
        "#create the object of StandardScaler class\n",
        "ss=StandardScaler()\n",
        "X_train=ss.fit_transform(X_train)\n",
        "X_test=ss.transform(X_test)"
      ],
      "execution_count": 40,
      "outputs": []
    },
    {
      "cell_type": "code",
      "metadata": {
        "id": "uB26XxUNfN5x"
      },
      "source": [
        "from keras.layers import Dropout\n",
        "from keras import regularizers"
      ],
      "execution_count": 41,
      "outputs": []
    },
    {
      "cell_type": "code",
      "metadata": {
        "id": "XHMd4lPF2URv"
      },
      "source": [
        "#create a neural network \n",
        "import tensorflow as tf\n",
        "model=tf.keras.Sequential([\n",
        "      tf.keras.layers.Dense(3,activation='relu',input_shape=(X.shape[1],)), #hidden layer1\n",
        "      tf.keras.layers.Dense(2,activation='relu'), #hidden layer2\n",
        "      tf.keras.layers.Dense(3,activation='softmax') #output layer\n",
        "])"
      ],
      "execution_count": 42,
      "outputs": []
    },
    {
      "cell_type": "code",
      "metadata": {
        "colab": {
          "base_uri": "https://localhost:8080/"
        },
        "id": "_DQXxjm2bHA5",
        "outputId": "a150bf1c-cb4b-4d88-c71a-521eb7b54852"
      },
      "source": [
        "model.summary()"
      ],
      "execution_count": 43,
      "outputs": [
        {
          "output_type": "stream",
          "text": [
            "Model: \"sequential_1\"\n",
            "_________________________________________________________________\n",
            "Layer (type)                 Output Shape              Param #   \n",
            "=================================================================\n",
            "dense_3 (Dense)              (None, 3)                 15        \n",
            "_________________________________________________________________\n",
            "dense_4 (Dense)              (None, 2)                 8         \n",
            "_________________________________________________________________\n",
            "dense_5 (Dense)              (None, 3)                 9         \n",
            "=================================================================\n",
            "Total params: 32\n",
            "Trainable params: 32\n",
            "Non-trainable params: 0\n",
            "_________________________________________________________________\n"
          ],
          "name": "stdout"
        }
      ]
    },
    {
      "cell_type": "code",
      "metadata": {
        "id": "bi84e1V13St4"
      },
      "source": [
        "#Compile the  model\n",
        "from keras.optimizers import Adam \n",
        "#specify learning rate  \n",
        "#in adam learning rate we change as per our requirement to improve module accuracy\n",
        "model.compile(optimizer=Adam(learning_rate=(0.1)),loss=\"sparse_categorical_crossentropy\",metrics=['accuracy'])"
      ],
      "execution_count": 44,
      "outputs": []
    },
    {
      "cell_type": "code",
      "metadata": {
        "colab": {
          "base_uri": "https://localhost:8080/"
        },
        "id": "uAhu_3kZ3TmD",
        "outputId": "858f1a42-e362-4c24-eec8-5580733c5191"
      },
      "source": [
        "#train the model\n",
        "trained_model=model.fit(X_train,Y_train,epochs=100,batch_size=30,validation_split=0.20,verbose=1)"
      ],
      "execution_count": 45,
      "outputs": [
        {
          "output_type": "stream",
          "text": [
            "Epoch 1/100\n",
            "3/3 [==============================] - 1s 75ms/step - loss: 1.1562 - accuracy: 0.3452 - val_loss: 0.9305 - val_accuracy: 0.7143\n",
            "Epoch 2/100\n",
            "3/3 [==============================] - 0s 15ms/step - loss: 0.8848 - accuracy: 0.6548 - val_loss: 0.7463 - val_accuracy: 0.7143\n",
            "Epoch 3/100\n",
            "3/3 [==============================] - 0s 13ms/step - loss: 0.6610 - accuracy: 0.6548 - val_loss: 0.4784 - val_accuracy: 0.7143\n",
            "Epoch 4/100\n",
            "3/3 [==============================] - 0s 13ms/step - loss: 0.4884 - accuracy: 0.6667 - val_loss: 0.3539 - val_accuracy: 0.8095\n",
            "Epoch 5/100\n",
            "3/3 [==============================] - 0s 13ms/step - loss: 0.3917 - accuracy: 0.8333 - val_loss: 0.3066 - val_accuracy: 0.9048\n",
            "Epoch 6/100\n",
            "3/3 [==============================] - 0s 18ms/step - loss: 0.3528 - accuracy: 0.9405 - val_loss: 0.2963 - val_accuracy: 0.9048\n",
            "Epoch 7/100\n",
            "3/3 [==============================] - 0s 18ms/step - loss: 0.3138 - accuracy: 0.8690 - val_loss: 0.2559 - val_accuracy: 0.9048\n",
            "Epoch 8/100\n",
            "3/3 [==============================] - 0s 19ms/step - loss: 0.2451 - accuracy: 0.9286 - val_loss: 0.1747 - val_accuracy: 0.9524\n",
            "Epoch 9/100\n",
            "3/3 [==============================] - 0s 12ms/step - loss: 0.1947 - accuracy: 0.9286 - val_loss: 0.1364 - val_accuracy: 0.9524\n",
            "Epoch 10/100\n",
            "3/3 [==============================] - 0s 13ms/step - loss: 0.1253 - accuracy: 0.9762 - val_loss: 0.0965 - val_accuracy: 0.9524\n",
            "Epoch 11/100\n",
            "3/3 [==============================] - 0s 11ms/step - loss: 0.1209 - accuracy: 0.9524 - val_loss: 0.0966 - val_accuracy: 0.9524\n",
            "Epoch 12/100\n",
            "3/3 [==============================] - 0s 14ms/step - loss: 0.0863 - accuracy: 0.9643 - val_loss: 0.1601 - val_accuracy: 0.9048\n",
            "Epoch 13/100\n",
            "3/3 [==============================] - 0s 14ms/step - loss: 0.0870 - accuracy: 0.9762 - val_loss: 0.0733 - val_accuracy: 0.9524\n",
            "Epoch 14/100\n",
            "3/3 [==============================] - 0s 13ms/step - loss: 0.0936 - accuracy: 0.9643 - val_loss: 0.0896 - val_accuracy: 0.9524\n",
            "Epoch 15/100\n",
            "3/3 [==============================] - 0s 12ms/step - loss: 0.0955 - accuracy: 0.9524 - val_loss: 0.2394 - val_accuracy: 0.9048\n",
            "Epoch 16/100\n",
            "3/3 [==============================] - 0s 11ms/step - loss: 0.0788 - accuracy: 0.9762 - val_loss: 0.0325 - val_accuracy: 1.0000\n",
            "Epoch 17/100\n",
            "3/3 [==============================] - 0s 12ms/step - loss: 0.1047 - accuracy: 0.9524 - val_loss: 0.0647 - val_accuracy: 0.9524\n",
            "Epoch 18/100\n",
            "3/3 [==============================] - 0s 13ms/step - loss: 0.0704 - accuracy: 0.9643 - val_loss: 0.1467 - val_accuracy: 0.9524\n",
            "Epoch 19/100\n",
            "3/3 [==============================] - 0s 12ms/step - loss: 0.0703 - accuracy: 0.9643 - val_loss: 0.0647 - val_accuracy: 0.9524\n",
            "Epoch 20/100\n",
            "3/3 [==============================] - 0s 15ms/step - loss: 0.0832 - accuracy: 0.9643 - val_loss: 0.0751 - val_accuracy: 0.9524\n",
            "Epoch 21/100\n",
            "3/3 [==============================] - 0s 13ms/step - loss: 0.1236 - accuracy: 0.9524 - val_loss: 0.2161 - val_accuracy: 0.9524\n",
            "Epoch 22/100\n",
            "3/3 [==============================] - 0s 14ms/step - loss: 0.1049 - accuracy: 0.9643 - val_loss: 0.0274 - val_accuracy: 1.0000\n",
            "Epoch 23/100\n",
            "3/3 [==============================] - 0s 12ms/step - loss: 0.0847 - accuracy: 0.9643 - val_loss: 0.0602 - val_accuracy: 0.9524\n",
            "Epoch 24/100\n",
            "3/3 [==============================] - 0s 13ms/step - loss: 0.0661 - accuracy: 0.9643 - val_loss: 0.1802 - val_accuracy: 0.9524\n",
            "Epoch 25/100\n",
            "3/3 [==============================] - 0s 12ms/step - loss: 0.0956 - accuracy: 0.9643 - val_loss: 0.0702 - val_accuracy: 0.9524\n",
            "Epoch 26/100\n",
            "3/3 [==============================] - 0s 12ms/step - loss: 0.0779 - accuracy: 0.9405 - val_loss: 0.0432 - val_accuracy: 0.9524\n",
            "Epoch 27/100\n",
            "3/3 [==============================] - 0s 11ms/step - loss: 0.0574 - accuracy: 0.9643 - val_loss: 0.1386 - val_accuracy: 0.9524\n",
            "Epoch 28/100\n",
            "3/3 [==============================] - 0s 11ms/step - loss: 0.1147 - accuracy: 0.9643 - val_loss: 0.1464 - val_accuracy: 0.9524\n",
            "Epoch 29/100\n",
            "3/3 [==============================] - 0s 12ms/step - loss: 0.1214 - accuracy: 0.9405 - val_loss: 0.0284 - val_accuracy: 1.0000\n",
            "Epoch 30/100\n",
            "3/3 [==============================] - 0s 11ms/step - loss: 0.0610 - accuracy: 0.9643 - val_loss: 0.1355 - val_accuracy: 0.9524\n",
            "Epoch 31/100\n",
            "3/3 [==============================] - 0s 18ms/step - loss: 0.0804 - accuracy: 0.9643 - val_loss: 0.1585 - val_accuracy: 0.9524\n",
            "Epoch 32/100\n",
            "3/3 [==============================] - 0s 13ms/step - loss: 0.0758 - accuracy: 0.9762 - val_loss: 0.0628 - val_accuracy: 0.9524\n",
            "Epoch 33/100\n",
            "3/3 [==============================] - 0s 16ms/step - loss: 0.0573 - accuracy: 0.9643 - val_loss: 0.0276 - val_accuracy: 1.0000\n",
            "Epoch 34/100\n",
            "3/3 [==============================] - 0s 17ms/step - loss: 0.0816 - accuracy: 0.9643 - val_loss: 0.0529 - val_accuracy: 0.9524\n",
            "Epoch 35/100\n",
            "3/3 [==============================] - 0s 13ms/step - loss: 0.0631 - accuracy: 0.9643 - val_loss: 0.0643 - val_accuracy: 0.9524\n",
            "Epoch 36/100\n",
            "3/3 [==============================] - 0s 15ms/step - loss: 0.0573 - accuracy: 0.9643 - val_loss: 0.0855 - val_accuracy: 0.9524\n",
            "Epoch 37/100\n",
            "3/3 [==============================] - 0s 12ms/step - loss: 0.0831 - accuracy: 0.9524 - val_loss: 0.1041 - val_accuracy: 0.9524\n",
            "Epoch 38/100\n",
            "3/3 [==============================] - 0s 13ms/step - loss: 0.0501 - accuracy: 0.9762 - val_loss: 0.0428 - val_accuracy: 0.9524\n",
            "Epoch 39/100\n",
            "3/3 [==============================] - 0s 14ms/step - loss: 0.0885 - accuracy: 0.9524 - val_loss: 0.0535 - val_accuracy: 0.9524\n",
            "Epoch 40/100\n",
            "3/3 [==============================] - 0s 15ms/step - loss: 0.1030 - accuracy: 0.9643 - val_loss: 0.1721 - val_accuracy: 0.9524\n",
            "Epoch 41/100\n",
            "3/3 [==============================] - 0s 14ms/step - loss: 0.0824 - accuracy: 0.9762 - val_loss: 0.0689 - val_accuracy: 0.9524\n",
            "Epoch 42/100\n",
            "3/3 [==============================] - 0s 16ms/step - loss: 0.0961 - accuracy: 0.9524 - val_loss: 0.0385 - val_accuracy: 0.9524\n",
            "Epoch 43/100\n",
            "3/3 [==============================] - 0s 14ms/step - loss: 0.0549 - accuracy: 0.9762 - val_loss: 0.1281 - val_accuracy: 0.9524\n",
            "Epoch 44/100\n",
            "3/3 [==============================] - 0s 14ms/step - loss: 0.0758 - accuracy: 0.9762 - val_loss: 0.1335 - val_accuracy: 0.9524\n",
            "Epoch 45/100\n",
            "3/3 [==============================] - 0s 14ms/step - loss: 0.0711 - accuracy: 0.9643 - val_loss: 0.0687 - val_accuracy: 0.9524\n",
            "Epoch 46/100\n",
            "3/3 [==============================] - 0s 15ms/step - loss: 0.0682 - accuracy: 0.9643 - val_loss: 0.0249 - val_accuracy: 1.0000\n",
            "Epoch 47/100\n",
            "3/3 [==============================] - 0s 14ms/step - loss: 0.0747 - accuracy: 0.9643 - val_loss: 0.0777 - val_accuracy: 0.9524\n",
            "Epoch 48/100\n",
            "3/3 [==============================] - 0s 14ms/step - loss: 0.0795 - accuracy: 0.9643 - val_loss: 0.1371 - val_accuracy: 0.9524\n",
            "Epoch 49/100\n",
            "3/3 [==============================] - 0s 14ms/step - loss: 0.0740 - accuracy: 0.9643 - val_loss: 0.0489 - val_accuracy: 0.9524\n",
            "Epoch 50/100\n",
            "3/3 [==============================] - 0s 13ms/step - loss: 0.0703 - accuracy: 0.9762 - val_loss: 0.0365 - val_accuracy: 1.0000\n",
            "Epoch 51/100\n",
            "3/3 [==============================] - 0s 14ms/step - loss: 0.0583 - accuracy: 0.9762 - val_loss: 0.0762 - val_accuracy: 0.9524\n",
            "Epoch 52/100\n",
            "3/3 [==============================] - 0s 13ms/step - loss: 0.0715 - accuracy: 0.9762 - val_loss: 0.1098 - val_accuracy: 0.9524\n",
            "Epoch 53/100\n",
            "3/3 [==============================] - 0s 13ms/step - loss: 0.0659 - accuracy: 0.9762 - val_loss: 0.0560 - val_accuracy: 0.9524\n",
            "Epoch 54/100\n",
            "3/3 [==============================] - 0s 13ms/step - loss: 0.0569 - accuracy: 0.9643 - val_loss: 0.0448 - val_accuracy: 0.9524\n",
            "Epoch 55/100\n",
            "3/3 [==============================] - 0s 15ms/step - loss: 0.0632 - accuracy: 0.9643 - val_loss: 0.0617 - val_accuracy: 0.9524\n",
            "Epoch 56/100\n",
            "3/3 [==============================] - 0s 15ms/step - loss: 0.0525 - accuracy: 0.9762 - val_loss: 0.1254 - val_accuracy: 0.9524\n",
            "Epoch 57/100\n",
            "3/3 [==============================] - 0s 17ms/step - loss: 0.0699 - accuracy: 0.9643 - val_loss: 0.1036 - val_accuracy: 0.9524\n",
            "Epoch 58/100\n",
            "3/3 [==============================] - 0s 18ms/step - loss: 0.0537 - accuracy: 0.9881 - val_loss: 0.0440 - val_accuracy: 0.9524\n",
            "Epoch 59/100\n",
            "3/3 [==============================] - 0s 15ms/step - loss: 0.0669 - accuracy: 0.9643 - val_loss: 0.0709 - val_accuracy: 0.9524\n",
            "Epoch 60/100\n",
            "3/3 [==============================] - 0s 15ms/step - loss: 0.0580 - accuracy: 0.9643 - val_loss: 0.0898 - val_accuracy: 0.9524\n",
            "Epoch 61/100\n",
            "3/3 [==============================] - 0s 15ms/step - loss: 0.0554 - accuracy: 0.9643 - val_loss: 0.0767 - val_accuracy: 0.9524\n",
            "Epoch 62/100\n",
            "3/3 [==============================] - 0s 19ms/step - loss: 0.0599 - accuracy: 0.9643 - val_loss: 0.0802 - val_accuracy: 0.9524\n",
            "Epoch 63/100\n",
            "3/3 [==============================] - 0s 20ms/step - loss: 0.0569 - accuracy: 0.9762 - val_loss: 0.0854 - val_accuracy: 0.9524\n",
            "Epoch 64/100\n",
            "3/3 [==============================] - 0s 15ms/step - loss: 0.0535 - accuracy: 0.9643 - val_loss: 0.0972 - val_accuracy: 0.9524\n",
            "Epoch 65/100\n",
            "3/3 [==============================] - 0s 14ms/step - loss: 0.0574 - accuracy: 0.9762 - val_loss: 0.0964 - val_accuracy: 0.9524\n",
            "Epoch 66/100\n",
            "3/3 [==============================] - 0s 12ms/step - loss: 0.0542 - accuracy: 0.9643 - val_loss: 0.1059 - val_accuracy: 0.9524\n",
            "Epoch 67/100\n",
            "3/3 [==============================] - 0s 12ms/step - loss: 0.0733 - accuracy: 0.9524 - val_loss: 0.0972 - val_accuracy: 0.9524\n",
            "Epoch 68/100\n",
            "3/3 [==============================] - 0s 12ms/step - loss: 0.0689 - accuracy: 0.9762 - val_loss: 0.1500 - val_accuracy: 0.9524\n",
            "Epoch 69/100\n",
            "3/3 [==============================] - 0s 14ms/step - loss: 0.0679 - accuracy: 0.9643 - val_loss: 0.0630 - val_accuracy: 0.9524\n",
            "Epoch 70/100\n",
            "3/3 [==============================] - 0s 12ms/step - loss: 0.0588 - accuracy: 0.9643 - val_loss: 0.0880 - val_accuracy: 0.9524\n",
            "Epoch 71/100\n",
            "3/3 [==============================] - 0s 15ms/step - loss: 0.0556 - accuracy: 0.9643 - val_loss: 0.1076 - val_accuracy: 0.9524\n",
            "Epoch 72/100\n",
            "3/3 [==============================] - 0s 12ms/step - loss: 0.0525 - accuracy: 0.9643 - val_loss: 0.0775 - val_accuracy: 0.9524\n",
            "Epoch 73/100\n",
            "3/3 [==============================] - 0s 15ms/step - loss: 0.0608 - accuracy: 0.9643 - val_loss: 0.0709 - val_accuracy: 0.9524\n",
            "Epoch 74/100\n",
            "3/3 [==============================] - 0s 12ms/step - loss: 0.0514 - accuracy: 0.9762 - val_loss: 0.1389 - val_accuracy: 0.9524\n",
            "Epoch 75/100\n",
            "3/3 [==============================] - 0s 16ms/step - loss: 0.0587 - accuracy: 0.9762 - val_loss: 0.1366 - val_accuracy: 0.9524\n",
            "Epoch 76/100\n",
            "3/3 [==============================] - 0s 12ms/step - loss: 0.0569 - accuracy: 0.9643 - val_loss: 0.0855 - val_accuracy: 0.9524\n",
            "Epoch 77/100\n",
            "3/3 [==============================] - 0s 13ms/step - loss: 0.0909 - accuracy: 0.9524 - val_loss: 0.1483 - val_accuracy: 0.9524\n",
            "Epoch 78/100\n",
            "3/3 [==============================] - 0s 12ms/step - loss: 0.0695 - accuracy: 0.9643 - val_loss: 0.0890 - val_accuracy: 0.9524\n",
            "Epoch 79/100\n",
            "3/3 [==============================] - 0s 15ms/step - loss: 0.0536 - accuracy: 0.9643 - val_loss: 0.1264 - val_accuracy: 0.9524\n",
            "Epoch 80/100\n",
            "3/3 [==============================] - 0s 13ms/step - loss: 0.0558 - accuracy: 0.9643 - val_loss: 0.1014 - val_accuracy: 0.9524\n",
            "Epoch 81/100\n",
            "3/3 [==============================] - 0s 14ms/step - loss: 0.0509 - accuracy: 0.9762 - val_loss: 0.0809 - val_accuracy: 0.9524\n",
            "Epoch 82/100\n",
            "3/3 [==============================] - 0s 14ms/step - loss: 0.0650 - accuracy: 0.9643 - val_loss: 0.0943 - val_accuracy: 0.9524\n",
            "Epoch 83/100\n",
            "3/3 [==============================] - 0s 12ms/step - loss: 0.0721 - accuracy: 0.9762 - val_loss: 0.1442 - val_accuracy: 0.9524\n",
            "Epoch 84/100\n",
            "3/3 [==============================] - 0s 12ms/step - loss: 0.0495 - accuracy: 0.9762 - val_loss: 0.0472 - val_accuracy: 0.9524\n",
            "Epoch 85/100\n",
            "3/3 [==============================] - 0s 13ms/step - loss: 0.0770 - accuracy: 0.9524 - val_loss: 0.0771 - val_accuracy: 0.9524\n",
            "Epoch 86/100\n",
            "3/3 [==============================] - 0s 13ms/step - loss: 0.0533 - accuracy: 0.9762 - val_loss: 0.0997 - val_accuracy: 0.9524\n",
            "Epoch 87/100\n",
            "3/3 [==============================] - 0s 15ms/step - loss: 0.0555 - accuracy: 0.9643 - val_loss: 0.1048 - val_accuracy: 0.9524\n",
            "Epoch 88/100\n",
            "3/3 [==============================] - 0s 13ms/step - loss: 0.0538 - accuracy: 0.9762 - val_loss: 0.0958 - val_accuracy: 0.9524\n",
            "Epoch 89/100\n",
            "3/3 [==============================] - 0s 15ms/step - loss: 0.0652 - accuracy: 0.9643 - val_loss: 0.0800 - val_accuracy: 0.9524\n",
            "Epoch 90/100\n",
            "3/3 [==============================] - 0s 13ms/step - loss: 0.0504 - accuracy: 0.9762 - val_loss: 0.1592 - val_accuracy: 0.9524\n",
            "Epoch 91/100\n",
            "3/3 [==============================] - 0s 15ms/step - loss: 0.0636 - accuracy: 0.9762 - val_loss: 0.1353 - val_accuracy: 0.9524\n",
            "Epoch 92/100\n",
            "3/3 [==============================] - 0s 14ms/step - loss: 0.0639 - accuracy: 0.9643 - val_loss: 0.0527 - val_accuracy: 0.9524\n",
            "Epoch 93/100\n",
            "3/3 [==============================] - 0s 12ms/step - loss: 0.0626 - accuracy: 0.9643 - val_loss: 0.1213 - val_accuracy: 0.9524\n",
            "Epoch 94/100\n",
            "3/3 [==============================] - 0s 13ms/step - loss: 0.0498 - accuracy: 0.9643 - val_loss: 0.1846 - val_accuracy: 0.9524\n",
            "Epoch 95/100\n",
            "3/3 [==============================] - 0s 15ms/step - loss: 0.0754 - accuracy: 0.9643 - val_loss: 0.1214 - val_accuracy: 0.9524\n",
            "Epoch 96/100\n",
            "3/3 [==============================] - 0s 13ms/step - loss: 0.0600 - accuracy: 0.9643 - val_loss: 0.0593 - val_accuracy: 0.9524\n",
            "Epoch 97/100\n",
            "3/3 [==============================] - 0s 12ms/step - loss: 0.0759 - accuracy: 0.9524 - val_loss: 0.1713 - val_accuracy: 0.9524\n",
            "Epoch 98/100\n",
            "3/3 [==============================] - 0s 13ms/step - loss: 0.0707 - accuracy: 0.9762 - val_loss: 0.1139 - val_accuracy: 0.9524\n",
            "Epoch 99/100\n",
            "3/3 [==============================] - 0s 16ms/step - loss: 0.0856 - accuracy: 0.9524 - val_loss: 0.0487 - val_accuracy: 0.9524\n",
            "Epoch 100/100\n",
            "3/3 [==============================] - 0s 13ms/step - loss: 0.0524 - accuracy: 0.9881 - val_loss: 0.1560 - val_accuracy: 0.9524\n"
          ],
          "name": "stdout"
        }
      ]
    },
    {
      "cell_type": "code",
      "metadata": {
        "colab": {
          "base_uri": "https://localhost:8080/"
        },
        "id": "o-SvqFhRDAL9",
        "outputId": "d734f4d0-d64a-4b74-cfa2-8cb5347e8c50"
      },
      "source": [
        "print(\"training=\",model.evaluate(X_train,Y_train))\n",
        "print(\"testing=\",model.evaluate(X_test,Y_test))"
      ],
      "execution_count": 46,
      "outputs": [
        {
          "output_type": "stream",
          "text": [
            "4/4 [==============================] - 0s 3ms/step - loss: 0.0859 - accuracy: 0.9714\n",
            "training= [0.08592233061790466, 0.9714285731315613]\n",
            "2/2 [==============================] - 0s 7ms/step - loss: 0.0775 - accuracy: 0.9556\n",
            "testing= [0.07753129303455353, 0.9555555582046509]\n"
          ],
          "name": "stdout"
        }
      ]
    },
    {
      "cell_type": "code",
      "metadata": {
        "colab": {
          "base_uri": "https://localhost:8080/",
          "height": 281
        },
        "id": "rtQ9vIvvb5se",
        "outputId": "779372b0-2d2b-4cfd-80b0-30fa3eb78639"
      },
      "source": [
        "plt.plot(trained_model.history[\"loss\"])\n",
        "plt.plot(trained_model.history[\"val_loss\"])\n",
        "plt.xlabel(\"epochs\")\n",
        "plt.ylabel(\"loss\")\n",
        "plt.legend([\"training loss\",\"testing loss\"])\n",
        "plt.show()\n"
      ],
      "execution_count": 47,
      "outputs": [
        {
          "output_type": "display_data",
          "data": {
            "image/png": "[encoded data removed]",
            "text/plain": [
              "<Figure size 432x288 with 1 Axes>"
            ]
          },
          "metadata": {
            "tags": [],
            "needs_background": "light"
          }
        }
      ]
    },
    {
      "cell_type": "code",
      "metadata": {
        "colab": {
          "base_uri": "https://localhost:8080/",
          "height": 279
        },
        "id": "wn1kXTtWb-gh",
        "outputId": "59419afe-0a1c-4b83-d9b4-ece94a00bb51"
      },
      "source": [
        "plt.plot(trained_model.history[\"accuracy\"])\n",
        "plt.plot(trained_model.history[\"val_accuracy\"])\n",
        "plt.xlabel(\"epochs\")\n",
        "plt.ylabel(\"accuracy\")\n",
        "plt.legend([\"training accuracy\",\"testing accuracy\"])\n",
        "plt.show()\n"
      ],
      "execution_count": 48,
      "outputs": [
        {
          "output_type": "display_data",
          "data": {
            "image/png": "[encoded data removed]",
            "text/plain": [
              "<Figure size 432x288 with 1 Axes>"
            ]
          },
          "metadata": {
            "tags": [],
            "needs_background": "light"
          }
        }
      ]
    },
    {
      "cell_type": "code",
      "metadata": {
        "colab": {
          "base_uri": "https://localhost:8080/"
        },
        "id": "uK6Vvk9f5mcA",
        "outputId": "8034da29-e24c-4cef-a52d-f9580bb28cdb"
      },
      "source": [
        "#testing the model\n",
        "Y_pred=model.predict(X_test)\n",
        "Y_pred"
      ],
      "execution_count": null,
      "outputs": [
        {
          "output_type": "execute_result",
          "data": {
            "text/plain": [
              "array([[3.91206640e-16, 8.42870668e-06, 9.99991536e-01],\n",
              "       [9.96533036e-01, 3.19421524e-03, 2.72808626e-04],\n",
              "       [9.96533036e-01, 3.19421524e-03, 2.72808626e-04],\n",
              "       [1.03421303e-06, 9.85647321e-01, 1.43516045e-02],\n",
              "       [1.68997540e-05, 9.98548687e-01, 1.43442629e-03],\n",
              "       [9.06665446e-05, 9.97748792e-01, 2.16056593e-03],\n",
              "       [1.34182671e-16, 4.37190965e-06, 9.99995589e-01],\n",
              "       [4.56978398e-07, 9.52035308e-01, 4.79642339e-02],\n",
              "       [1.08838164e-13, 2.66254414e-04, 9.99733746e-01],\n",
              "       [9.96533036e-01, 3.19421524e-03, 2.72808626e-04],\n",
              "       [9.96533036e-01, 3.19421524e-03, 2.72808626e-04],\n",
              "       [1.50318229e-08, 3.25579971e-01, 6.74419940e-01],\n",
              "       [9.96533036e-01, 3.19421524e-03, 2.72808626e-04],\n",
              "       [9.06665446e-05, 9.97748792e-01, 2.16056593e-03],\n",
              "       [9.96533036e-01, 3.19421524e-03, 2.72808626e-04],\n",
              "       [1.20270101e-06, 9.88616168e-01, 1.13826571e-02],\n",
              "       [7.57051578e-17, 3.07734695e-06, 9.99996901e-01],\n",
              "       [1.52122202e-05, 9.98586655e-01, 1.39808690e-03],\n",
              "       [5.28905803e-05, 9.98052478e-01, 1.89456868e-03],\n",
              "       [2.53738680e-13, 4.47493017e-04, 9.99552429e-01],\n",
              "       [1.32041768e-19, 6.25087466e-08, 9.99999881e-01],\n",
              "       [9.96533036e-01, 3.19421524e-03, 2.72808626e-04],\n",
              "       [1.98044399e-05, 9.98489261e-01, 1.49100437e-03],\n",
              "       [6.28039010e-11, 1.30941998e-02, 9.86905873e-01],\n",
              "       [9.06665446e-05, 9.97748792e-01, 2.16056593e-03],\n",
              "       [2.77536628e-06, 9.96912479e-01, 3.08475248e-03],\n",
              "       [9.06665446e-05, 9.97748792e-01, 2.16056593e-03],\n",
              "       [1.16264829e-21, 3.42826700e-09, 1.00000000e+00],\n",
              "       [9.96533036e-01, 3.19421524e-03, 2.72808626e-04],\n",
              "       [6.60194609e-13, 8.04443436e-04, 9.99195516e-01],\n",
              "       [9.96533036e-01, 3.19421524e-03, 2.72808626e-04],\n",
              "       [9.96533036e-01, 3.19421524e-03, 2.72808626e-04],\n",
              "       [9.06665446e-05, 9.97748792e-01, 2.16056593e-03],\n",
              "       [8.51580844e-05, 9.97786999e-01, 2.12781038e-03],\n",
              "       [8.37712741e-19, 1.94173126e-07, 9.99999762e-01],\n",
              "       [8.10010130e-17, 3.20768572e-06, 9.99996781e-01],\n",
              "       [9.96533036e-01, 3.19421524e-03, 2.72808626e-04],\n",
              "       [9.96533036e-01, 3.19421524e-03, 2.72808626e-04],\n",
              "       [9.96533036e-01, 3.19421524e-03, 2.72808626e-04],\n",
              "       [6.20299943e-06, 9.98870432e-01, 1.12329412e-03],\n",
              "       [7.43036182e-20, 4.39291732e-08, 1.00000000e+00],\n",
              "       [3.03152725e-09, 1.34273827e-01, 8.65726173e-01],\n",
              "       [1.67646238e-06, 9.93198335e-01, 6.79996703e-03],\n",
              "       [9.96533036e-01, 3.19421501e-03, 2.72808596e-04],\n",
              "       [9.96533036e-01, 3.19421501e-03, 2.72808596e-04]], dtype=float32)"
            ]
          },
          "metadata": {
            "tags": []
          },
          "execution_count": 23
        }
      ]
    },
    {
      "cell_type": "code",
      "metadata": {
        "colab": {
          "base_uri": "https://localhost:8080/"
        },
        "id": "-iNlGvZU7OC1",
        "outputId": "0a6ef403-c8e2-4297-d46d-e6e9f52bed49"
      },
      "source": [
        "#select highest probability from Y_pred \n",
        "Y_pred=Y_pred.argmax(axis=1)\n",
        "Y_pred"
      ],
      "execution_count": null,
      "outputs": [
        {
          "output_type": "execute_result",
          "data": {
            "text/plain": [
              "array([2, 0, 0, 1, 1, 1, 2, 1, 2, 0, 0, 2, 0, 1, 0, 1, 2, 1, 1, 2, 2, 0,\n",
              "       1, 2, 1, 1, 1, 2, 0, 2, 0, 0, 1, 1, 2, 2, 0, 0, 0, 1, 2, 2, 1, 0,\n",
              "       0])"
            ]
          },
          "metadata": {
            "tags": []
          },
          "execution_count": 24
        }
      ]
    },
    {
      "cell_type": "code",
      "metadata": {
        "colab": {
          "base_uri": "https://localhost:8080/"
        },
        "id": "duUi6LJM86wJ",
        "outputId": "f2a2e9e6-f19f-4aaf-f43e-d209a0133ecb"
      },
      "source": [
        "\n",
        "from sklearn.metrics import classification_report\n",
        "print(classification_report(Y_test,Y_pred))\n",
        "\n",
        "from sklearn.metrics import confusion_matrix\n",
        "print(confusion_matrix(Y_test,Y_pred))\n"
      ],
      "execution_count": null,
      "outputs": [
        {
          "output_type": "stream",
          "text": [
            "              precision    recall  f1-score   support\n",
            "\n",
            "           0       1.00      1.00      1.00        15\n",
            "           1       0.94      1.00      0.97        15\n",
            "           2       1.00      0.93      0.97        15\n",
            "\n",
            "    accuracy                           0.98        45\n",
            "   macro avg       0.98      0.98      0.98        45\n",
            "weighted avg       0.98      0.98      0.98        45\n",
            "\n",
            "[[15  0  0]\n",
            " [ 0 15  0]\n",
            " [ 0  1 14]]\n"
          ],
          "name": "stdout"
        }
      ]
    },
    {
      "cell_type": "code",
      "metadata": {
        "colab": {
          "base_uri": "https://localhost:8080/",
          "height": 279
        },
        "id": "sZqlYhrXD2Cv",
        "outputId": "7b5c4848-fccd-4fb2-a4bd-8b1abddf54ba"
      },
      "source": [
        "sns.heatmap(confusion_matrix(Y_test,Y_pred),fmt='d',cmap=\"Blues\",annot=True)\n",
        "plt.xlabel(\"predicted\")\n",
        "plt.ylabel('actual')\n",
        "plt.show()"
      ],
      "execution_count": null,
      "outputs": [
        {
          "output_type": "display_data",
          "data": {
            "image/png": "[encoded data removed]",
            "text/plain": [
              "<Figure size 432x288 with 2 Axes>"
            ]
          },
          "metadata": {
            "tags": [],
            "needs_background": "light"
          }
        }
      ]
    },
    {
      "cell_type": "code",
      "metadata": {
        "id": "JOYPT7SMsbl_"
      },
      "source": [
        ""
      ],
      "execution_count": null,
      "outputs": []
    }
  ]
}