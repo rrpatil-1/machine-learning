{
  "nbformat": 4,
  "nbformat_minor": 0,
  "metadata": {
    "kernelspec": {
      "display_name": "Python 3",
      "language": "python",
      "name": "python3"
    },
    "language_info": {
      "codemirror_mode": {
        "name": "ipython",
        "version": 3
      },
      "file_extension": ".py",
      "mimetype": "text/x-python",
      "name": "python",
      "nbconvert_exporter": "python",
      "pygments_lexer": "ipython3",
      "version": "3.7.6"
    },
    "colab": {
      "name": "balancing_dataset.ipynb",
      "provenance": [],
      "collapsed_sections": []
    }
  },
  "cells": [
    {
      "cell_type": "markdown",
      "metadata": {
        "id": "dBw_eVMwQIrl"
      },
      "source": [
        "# Case Study : Telecom Customer Defection #Analysis or telecom_churn"
      ]
    },
    {
      "cell_type": "code",
      "metadata": {
        "id": "1bwxmAVgDWvA"
      },
      "source": [
        ""
      ],
      "execution_count": null,
      "outputs": []
    },
    {
      "cell_type": "code",
      "metadata": {
        "id": "JWdmr7y3QIr2"
      },
      "source": [
        "#Work on dataset Telecomm_churn.csv"
      ],
      "execution_count": 1,
      "outputs": []
    },
    {
      "cell_type": "code",
      "metadata": {
        "id": "Ha_7HSr1QIr3"
      },
      "source": [
        "#Customer Defection means customer churn  means is \n",
        "#the loss of clients or customer means Predict Wheather the customer use\n",
        "#in this telecom service  or left the service of telecom"
      ],
      "execution_count": 2,
      "outputs": []
    },
    {
      "cell_type": "code",
      "metadata": {
        "id": "B0eX3H6sQIr4"
      },
      "source": [
        "import numpy as np\n",
        "import pandas as pd\n",
        "import matplotlib.pyplot as plt\n",
        "import seaborn as sns\n",
        "import warnings\n",
        "warnings.filterwarnings('ignore')"
      ],
      "execution_count": 3,
      "outputs": []
    },
    {
      "cell_type": "code",
      "metadata": {
        "colab": {
          "base_uri": "https://localhost:8080/"
        },
        "id": "VvPzhPz2QIr4",
        "outputId": "a03ee0ec-00e1-4e02-d034-6ae96643b9b0"
      },
      "source": [
        "#to load the dataset\n",
        "df=pd.read_csv(\"/content/sample_data/telecom_churn.csv\")\n",
        "#to show first 5 records\n",
        "df.head"
      ],
      "execution_count": 4,
      "outputs": [
        {
          "output_type": "execute_result",
          "data": {
            "text/plain": [
              "<bound method NDFrame.head of       customerID  gender  SeniorCitizen  ... MonthlyCharges TotalCharges  Churn\n",
              "0     7590-VHVEG  Female              0  ...          29.85        29.85     No\n",
              "1     5575-GNVDE    Male              0  ...          56.95       1889.5     No\n",
              "2     3668-QPYBK    Male              0  ...          53.85       108.15    Yes\n",
              "3     7795-CFOCW    Male              0  ...          42.30      1840.75     No\n",
              "4     9237-HQITU  Female              0  ...          70.70       151.65    Yes\n",
              "...          ...     ...            ...  ...            ...          ...    ...\n",
              "7038  6840-RESVB    Male              0  ...          84.80       1990.5     No\n",
              "7039  2234-XADUH  Female              0  ...         103.20       7362.9     No\n",
              "7040  4801-JZAZL  Female              0  ...          29.60       346.45     No\n",
              "7041  8361-LTMKD    Male              1  ...          74.40        306.6    Yes\n",
              "7042  3186-AJIEK    Male              0  ...         105.65       6844.5     No\n",
              "\n",
              "[7043 rows x 21 columns]>"
            ]
          },
          "metadata": {
            "tags": []
          },
          "execution_count": 4
        }
      ]
    },
    {
      "cell_type": "code",
      "metadata": {
        "id": "xu5_sl_GEF0D"
      },
      "source": [
        ""
      ],
      "execution_count": 4,
      "outputs": []
    },
    {
      "cell_type": "code",
      "metadata": {
        "id": "XrbeFjFvQqfj"
      },
      "source": [
        ""
      ],
      "execution_count": 4,
      "outputs": []
    },
    {
      "cell_type": "code",
      "metadata": {
        "colab": {
          "base_uri": "https://localhost:8080/",
          "height": 301
        },
        "id": "BZVedx3QQIr7",
        "outputId": "aa4f09ab-36ea-4c60-ad3f-e069ed8e11bf"
      },
      "source": [
        "pd.set_option('display.max_columns',None) #To show all columns\n",
        "df.head()"
      ],
      "execution_count": 5,
      "outputs": [
        {
          "output_type": "execute_result",
          "data": {
            "text/html": [
              "<div>\n",
              "<style scoped>\n",
              "    .dataframe tbody tr th:only-of-type {\n",
              "        vertical-align: middle;\n",
              "    }\n",
              "\n",
              "    .dataframe tbody tr th {\n",
              "        vertical-align: top;\n",
              "    }\n",
              "\n",
              "    .dataframe thead th {\n",
              "        text-align: right;\n",
              "    }\n",
              "</style>\n",
              "<table border=\"1\" class=\"dataframe\">\n",
              "  <thead>\n",
              "    <tr style=\"text-align: right;\">\n",
              "      <th></th>\n",
              "      <th>customerID</th>\n",
              "      <th>gender</th>\n",
              "      <th>SeniorCitizen</th>\n",
              "      <th>Partner</th>\n",
              "      <th>Dependents</th>\n",
              "      <th>tenure</th>\n",
              "      <th>PhoneService</th>\n",
              "      <th>MultipleLines</th>\n",
              "      <th>InternetService</th>\n",
              "      <th>OnlineSecurity</th>\n",
              "      <th>OnlineBackup</th>\n",
              "      <th>DeviceProtection</th>\n",
              "      <th>TechSupport</th>\n",
              "      <th>StreamingTV</th>\n",
              "      <th>StreamingMovies</th>\n",
              "      <th>Contract</th>\n",
              "      <th>PaperlessBilling</th>\n",
              "      <th>PaymentMethod</th>\n",
              "      <th>MonthlyCharges</th>\n",
              "      <th>TotalCharges</th>\n",
              "      <th>Churn</th>\n",
              "    </tr>\n",
              "  </thead>\n",
              "  <tbody>\n",
              "    <tr>\n",
              "      <th>0</th>\n",
              "      <td>7590-VHVEG</td>\n",
              "      <td>Female</td>\n",
              "      <td>0</td>\n",
              "      <td>Yes</td>\n",
              "      <td>No</td>\n",
              "      <td>1</td>\n",
              "      <td>No</td>\n",
              "      <td>No phone service</td>\n",
              "      <td>DSL</td>\n",
              "      <td>No</td>\n",
              "      <td>Yes</td>\n",
              "      <td>No</td>\n",
              "      <td>No</td>\n",
              "      <td>No</td>\n",
              "      <td>No</td>\n",
              "      <td>Month-to-month</td>\n",
              "      <td>Yes</td>\n",
              "      <td>Electronic check</td>\n",
              "      <td>29.85</td>\n",
              "      <td>29.85</td>\n",
              "      <td>No</td>\n",
              "    </tr>\n",
              "    <tr>\n",
              "      <th>1</th>\n",
              "      <td>5575-GNVDE</td>\n",
              "      <td>Male</td>\n",
              "      <td>0</td>\n",
              "      <td>No</td>\n",
              "      <td>No</td>\n",
              "      <td>34</td>\n",
              "      <td>Yes</td>\n",
              "      <td>No</td>\n",
              "      <td>DSL</td>\n",
              "      <td>Yes</td>\n",
              "      <td>No</td>\n",
              "      <td>Yes</td>\n",
              "      <td>No</td>\n",
              "      <td>No</td>\n",
              "      <td>No</td>\n",
              "      <td>One year</td>\n",
              "      <td>No</td>\n",
              "      <td>Mailed check</td>\n",
              "      <td>56.95</td>\n",
              "      <td>1889.5</td>\n",
              "      <td>No</td>\n",
              "    </tr>\n",
              "    <tr>\n",
              "      <th>2</th>\n",
              "      <td>3668-QPYBK</td>\n",
              "      <td>Male</td>\n",
              "      <td>0</td>\n",
              "      <td>No</td>\n",
              "      <td>No</td>\n",
              "      <td>2</td>\n",
              "      <td>Yes</td>\n",
              "      <td>No</td>\n",
              "      <td>DSL</td>\n",
              "      <td>Yes</td>\n",
              "      <td>Yes</td>\n",
              "      <td>No</td>\n",
              "      <td>No</td>\n",
              "      <td>No</td>\n",
              "      <td>No</td>\n",
              "      <td>Month-to-month</td>\n",
              "      <td>Yes</td>\n",
              "      <td>Mailed check</td>\n",
              "      <td>53.85</td>\n",
              "      <td>108.15</td>\n",
              "      <td>Yes</td>\n",
              "    </tr>\n",
              "    <tr>\n",
              "      <th>3</th>\n",
              "      <td>7795-CFOCW</td>\n",
              "      <td>Male</td>\n",
              "      <td>0</td>\n",
              "      <td>No</td>\n",
              "      <td>No</td>\n",
              "      <td>45</td>\n",
              "      <td>No</td>\n",
              "      <td>No phone service</td>\n",
              "      <td>DSL</td>\n",
              "      <td>Yes</td>\n",
              "      <td>No</td>\n",
              "      <td>Yes</td>\n",
              "      <td>Yes</td>\n",
              "      <td>No</td>\n",
              "      <td>No</td>\n",
              "      <td>One year</td>\n",
              "      <td>No</td>\n",
              "      <td>Bank transfer (automatic)</td>\n",
              "      <td>42.30</td>\n",
              "      <td>1840.75</td>\n",
              "      <td>No</td>\n",
              "    </tr>\n",
              "    <tr>\n",
              "      <th>4</th>\n",
              "      <td>9237-HQITU</td>\n",
              "      <td>Female</td>\n",
              "      <td>0</td>\n",
              "      <td>No</td>\n",
              "      <td>No</td>\n",
              "      <td>2</td>\n",
              "      <td>Yes</td>\n",
              "      <td>No</td>\n",
              "      <td>Fiber optic</td>\n",
              "      <td>No</td>\n",
              "      <td>No</td>\n",
              "      <td>No</td>\n",
              "      <td>No</td>\n",
              "      <td>No</td>\n",
              "      <td>No</td>\n",
              "      <td>Month-to-month</td>\n",
              "      <td>Yes</td>\n",
              "      <td>Electronic check</td>\n",
              "      <td>70.70</td>\n",
              "      <td>151.65</td>\n",
              "      <td>Yes</td>\n",
              "    </tr>\n",
              "  </tbody>\n",
              "</table>\n",
              "</div>"
            ],
            "text/plain": [
              "   customerID  gender  SeniorCitizen Partner Dependents  tenure PhoneService  \\\n",
              "0  7590-VHVEG  Female              0     Yes         No       1           No   \n",
              "1  5575-GNVDE    Male              0      No         No      34          Yes   \n",
              "2  3668-QPYBK    Male              0      No         No       2          Yes   \n",
              "3  7795-CFOCW    Male              0      No         No      45           No   \n",
              "4  9237-HQITU  Female              0      No         No       2          Yes   \n",
              "\n",
              "      MultipleLines InternetService OnlineSecurity OnlineBackup  \\\n",
              "0  No phone service             DSL             No          Yes   \n",
              "1                No             DSL            Yes           No   \n",
              "2                No             DSL            Yes          Yes   \n",
              "3  No phone service             DSL            Yes           No   \n",
              "4                No     Fiber optic             No           No   \n",
              "\n",
              "  DeviceProtection TechSupport StreamingTV StreamingMovies        Contract  \\\n",
              "0               No          No          No              No  Month-to-month   \n",
              "1              Yes          No          No              No        One year   \n",
              "2               No          No          No              No  Month-to-month   \n",
              "3              Yes         Yes          No              No        One year   \n",
              "4               No          No          No              No  Month-to-month   \n",
              "\n",
              "  PaperlessBilling              PaymentMethod  MonthlyCharges TotalCharges  \\\n",
              "0              Yes           Electronic check           29.85        29.85   \n",
              "1               No               Mailed check           56.95       1889.5   \n",
              "2              Yes               Mailed check           53.85       108.15   \n",
              "3               No  Bank transfer (automatic)           42.30      1840.75   \n",
              "4              Yes           Electronic check           70.70       151.65   \n",
              "\n",
              "  Churn  \n",
              "0    No  \n",
              "1    No  \n",
              "2   Yes  \n",
              "3    No  \n",
              "4   Yes  "
            ]
          },
          "metadata": {
            "tags": []
          },
          "execution_count": 5
        }
      ]
    },
    {
      "cell_type": "code",
      "metadata": {
        "colab": {
          "base_uri": "https://localhost:8080/"
        },
        "id": "ug_9ZTX3QIr9",
        "outputId": "bac8f563-8836-4cfa-abbd-3e942838393f"
      },
      "source": [
        "#to show no. of rows and columns\n",
        "df.shape"
      ],
      "execution_count": 6,
      "outputs": [
        {
          "output_type": "execute_result",
          "data": {
            "text/plain": [
              "(7043, 21)"
            ]
          },
          "metadata": {
            "tags": []
          },
          "execution_count": 6
        }
      ]
    },
    {
      "cell_type": "code",
      "metadata": {
        "id": "JyDVwClzQIr-"
      },
      "source": [
        "#we have classification dataset means apply classification algorithm means \n",
        "#to predict Either customer left the service or not of telecomm"
      ],
      "execution_count": 7,
      "outputs": []
    },
    {
      "cell_type": "code",
      "metadata": {
        "id": "3UoDXnqOQIr-"
      },
      "source": [
        "#apply basic steps of EDA \n",
        "#To delete unwanted column customerID  from dataset permanently\n",
        "df.drop(\"customerID\",axis=1,inplace=True)"
      ],
      "execution_count": 8,
      "outputs": []
    },
    {
      "cell_type": "code",
      "metadata": {
        "colab": {
          "base_uri": "https://localhost:8080/"
        },
        "id": "Q5DT7MSvQIr_",
        "outputId": "c5509875-ff5d-48fd-ae6e-a1b5b0d2137c"
      },
      "source": [
        "#check null values in dataset\n",
        "df.isnull().sum()"
      ],
      "execution_count": 9,
      "outputs": [
        {
          "output_type": "execute_result",
          "data": {
            "text/plain": [
              "gender              0\n",
              "SeniorCitizen       0\n",
              "Partner             0\n",
              "Dependents          0\n",
              "tenure              0\n",
              "PhoneService        0\n",
              "MultipleLines       0\n",
              "InternetService     0\n",
              "OnlineSecurity      0\n",
              "OnlineBackup        0\n",
              "DeviceProtection    0\n",
              "TechSupport         0\n",
              "StreamingTV         0\n",
              "StreamingMovies     0\n",
              "Contract            0\n",
              "PaperlessBilling    0\n",
              "PaymentMethod       0\n",
              "MonthlyCharges      0\n",
              "TotalCharges        0\n",
              "Churn               0\n",
              "dtype: int64"
            ]
          },
          "metadata": {
            "tags": []
          },
          "execution_count": 9
        }
      ]
    },
    {
      "cell_type": "code",
      "metadata": {
        "colab": {
          "base_uri": "https://localhost:8080/"
        },
        "id": "Z79mdLcCQIr_",
        "outputId": "421971a4-7670-4bd7-8fbd-f3642eb63d0f"
      },
      "source": [
        "df.info()"
      ],
      "execution_count": 10,
      "outputs": [
        {
          "output_type": "stream",
          "text": [
            "<class 'pandas.core.frame.DataFrame'>\n",
            "RangeIndex: 7043 entries, 0 to 7042\n",
            "Data columns (total 20 columns):\n",
            " #   Column            Non-Null Count  Dtype  \n",
            "---  ------            --------------  -----  \n",
            " 0   gender            7043 non-null   object \n",
            " 1   SeniorCitizen     7043 non-null   int64  \n",
            " 2   Partner           7043 non-null   object \n",
            " 3   Dependents        7043 non-null   object \n",
            " 4   tenure            7043 non-null   int64  \n",
            " 5   PhoneService      7043 non-null   object \n",
            " 6   MultipleLines     7043 non-null   object \n",
            " 7   InternetService   7043 non-null   object \n",
            " 8   OnlineSecurity    7043 non-null   object \n",
            " 9   OnlineBackup      7043 non-null   object \n",
            " 10  DeviceProtection  7043 non-null   object \n",
            " 11  TechSupport       7043 non-null   object \n",
            " 12  StreamingTV       7043 non-null   object \n",
            " 13  StreamingMovies   7043 non-null   object \n",
            " 14  Contract          7043 non-null   object \n",
            " 15  PaperlessBilling  7043 non-null   object \n",
            " 16  PaymentMethod     7043 non-null   object \n",
            " 17  MonthlyCharges    7043 non-null   float64\n",
            " 18  TotalCharges      7043 non-null   object \n",
            " 19  Churn             7043 non-null   object \n",
            "dtypes: float64(1), int64(2), object(17)\n",
            "memory usage: 1.1+ MB\n"
          ],
          "name": "stdout"
        }
      ]
    },
    {
      "cell_type": "code",
      "metadata": {
        "colab": {
          "base_uri": "https://localhost:8080/"
        },
        "id": "l9ZB4epFQIsA",
        "outputId": "5cedb0e6-a407-4267-efad-72aa0f56a025"
      },
      "source": [
        "#why show TotalCharges column is object type ?\n",
        "df[\"TotalCharges\"].value_counts()"
      ],
      "execution_count": 11,
      "outputs": [
        {
          "output_type": "execute_result",
          "data": {
            "text/plain": [
              "          11\n",
              "20.2      11\n",
              "19.75      9\n",
              "19.9       8\n",
              "19.65      8\n",
              "          ..\n",
              "1071.6     1\n",
              "2928.5     1\n",
              "231.8      1\n",
              "5459.2     1\n",
              "97.1       1\n",
              "Name: TotalCharges, Length: 6531, dtype: int64"
            ]
          },
          "metadata": {
            "tags": []
          },
          "execution_count": 11
        }
      ]
    },
    {
      "cell_type": "code",
      "metadata": {
        "id": "GpuQvQczQIsA"
      },
      "source": [
        "#Replace space of df[\"TotalCharges\"] with null values in dataset df permanent\n",
        "df[\"TotalCharges\"].replace(\" \",np.nan,inplace=True)"
      ],
      "execution_count": 12,
      "outputs": []
    },
    {
      "cell_type": "code",
      "metadata": {
        "colab": {
          "base_uri": "https://localhost:8080/"
        },
        "id": "PWNcINYIQIsB",
        "outputId": "413d6dea-d823-437d-ed5f-318a3172b8d8"
      },
      "source": [
        "df.isnull().sum()"
      ],
      "execution_count": 13,
      "outputs": [
        {
          "output_type": "execute_result",
          "data": {
            "text/plain": [
              "gender               0\n",
              "SeniorCitizen        0\n",
              "Partner              0\n",
              "Dependents           0\n",
              "tenure               0\n",
              "PhoneService         0\n",
              "MultipleLines        0\n",
              "InternetService      0\n",
              "OnlineSecurity       0\n",
              "OnlineBackup         0\n",
              "DeviceProtection     0\n",
              "TechSupport          0\n",
              "StreamingTV          0\n",
              "StreamingMovies      0\n",
              "Contract             0\n",
              "PaperlessBilling     0\n",
              "PaymentMethod        0\n",
              "MonthlyCharges       0\n",
              "TotalCharges        11\n",
              "Churn                0\n",
              "dtype: int64"
            ]
          },
          "metadata": {
            "tags": []
          },
          "execution_count": 13
        }
      ]
    },
    {
      "cell_type": "code",
      "metadata": {
        "colab": {
          "base_uri": "https://localhost:8080/"
        },
        "id": "SBCyMF0WQIsB",
        "outputId": "8dea5928-ce15-4b62-ccc0-5c47196927a0"
      },
      "source": [
        "#To change the datatype of TotalCharges column\n",
        "df[\"TotalCharges\"]=df[\"TotalCharges\"].astype(\"float\")\n",
        "#check\n",
        "df.info()"
      ],
      "execution_count": 14,
      "outputs": [
        {
          "output_type": "stream",
          "text": [
            "<class 'pandas.core.frame.DataFrame'>\n",
            "RangeIndex: 7043 entries, 0 to 7042\n",
            "Data columns (total 20 columns):\n",
            " #   Column            Non-Null Count  Dtype  \n",
            "---  ------            --------------  -----  \n",
            " 0   gender            7043 non-null   object \n",
            " 1   SeniorCitizen     7043 non-null   int64  \n",
            " 2   Partner           7043 non-null   object \n",
            " 3   Dependents        7043 non-null   object \n",
            " 4   tenure            7043 non-null   int64  \n",
            " 5   PhoneService      7043 non-null   object \n",
            " 6   MultipleLines     7043 non-null   object \n",
            " 7   InternetService   7043 non-null   object \n",
            " 8   OnlineSecurity    7043 non-null   object \n",
            " 9   OnlineBackup      7043 non-null   object \n",
            " 10  DeviceProtection  7043 non-null   object \n",
            " 11  TechSupport       7043 non-null   object \n",
            " 12  StreamingTV       7043 non-null   object \n",
            " 13  StreamingMovies   7043 non-null   object \n",
            " 14  Contract          7043 non-null   object \n",
            " 15  PaperlessBilling  7043 non-null   object \n",
            " 16  PaymentMethod     7043 non-null   object \n",
            " 17  MonthlyCharges    7043 non-null   float64\n",
            " 18  TotalCharges      7032 non-null   float64\n",
            " 19  Churn             7043 non-null   object \n",
            "dtypes: float64(2), int64(2), object(16)\n",
            "memory usage: 1.1+ MB\n"
          ],
          "name": "stdout"
        }
      ]
    },
    {
      "cell_type": "code",
      "metadata": {
        "colab": {
          "base_uri": "https://localhost:8080/"
        },
        "id": "xOnDWz0qQIsC",
        "outputId": "5d05f4aa-970c-41bf-ae11-06ed11c0ce01"
      },
      "source": [
        "#find the percentage of null values of column TotalCharges\n",
        "df[\"TotalCharges\"].isnull().sum()*100/df.shape[0] \n",
        "\n",
        "#where df.shape[0]  : total no. of records"
      ],
      "execution_count": 15,
      "outputs": [
        {
          "output_type": "execute_result",
          "data": {
            "text/plain": [
              "0.15618344455487718"
            ]
          },
          "metadata": {
            "tags": []
          },
          "execution_count": 15
        }
      ]
    },
    {
      "cell_type": "code",
      "metadata": {
        "id": "VP3nCe-nQIsC"
      },
      "source": [
        "#fill null values of TotalCharges with mean of itself column TotalCharges\n",
        "#Permanently\n",
        "m=df[\"TotalCharges\"].mean()\n",
        "df[\"TotalCharges\"].fillna(m,inplace=True)"
      ],
      "execution_count": 16,
      "outputs": []
    },
    {
      "cell_type": "code",
      "metadata": {
        "colab": {
          "base_uri": "https://localhost:8080/",
          "height": 345
        },
        "id": "euEHsg3wQIsD",
        "outputId": "fad36b4a-1a0e-46c8-8e3d-93e6e3a23588"
      },
      "source": [
        "#visualize null values\n",
        "sns.heatmap(df.isnull())\n",
        "plt.show()"
      ],
      "execution_count": 17,
      "outputs": [
        {
          "output_type": "display_data",
          "data": {
            "image/png": "[encoded data removed]",
            "text/plain": [
              "<Figure size 432x288 with 2 Axes>"
            ]
          },
          "metadata": {
            "tags": [],
            "needs_background": "light"
          }
        }
      ]
    },
    {
      "cell_type": "code",
      "metadata": {
        "colab": {
          "base_uri": "https://localhost:8080/",
          "height": 278
        },
        "id": "-wC0-BQ2QIsD",
        "outputId": "fcc47784-5338-4690-dd48-458f4c27f24d"
      },
      "source": [
        "#we predict churn (target)\n",
        "#how many 'yes' and 'no' in target column churn(loss of customer) in \n",
        "#visualize form then use inbuilt method countplot() because data is categorical\n",
        "sns.countplot(data=df,x='Churn')\n",
        "c=df[\"Churn\"].value_counts()\n",
        "plt.yticks(c)\n",
        "plt.show()"
      ],
      "execution_count": 18,
      "outputs": [
        {
          "output_type": "display_data",
          "data": {
            "image/png": "[encoded data removed]",
            "text/plain": [
              "<Figure size 432x288 with 1 Axes>"
            ]
          },
          "metadata": {
            "tags": [],
            "needs_background": "light"
          }
        }
      ]
    },
    {
      "cell_type": "code",
      "metadata": {
        "colab": {
          "base_uri": "https://localhost:8080/"
        },
        "id": "iF4R-vXLQIsF",
        "outputId": "1652a5ed-96ae-40a2-df30-e09a18dff45c"
      },
      "source": [
        "df.info()"
      ],
      "execution_count": 19,
      "outputs": [
        {
          "output_type": "stream",
          "text": [
            "<class 'pandas.core.frame.DataFrame'>\n",
            "RangeIndex: 7043 entries, 0 to 7042\n",
            "Data columns (total 20 columns):\n",
            " #   Column            Non-Null Count  Dtype  \n",
            "---  ------            --------------  -----  \n",
            " 0   gender            7043 non-null   object \n",
            " 1   SeniorCitizen     7043 non-null   int64  \n",
            " 2   Partner           7043 non-null   object \n",
            " 3   Dependents        7043 non-null   object \n",
            " 4   tenure            7043 non-null   int64  \n",
            " 5   PhoneService      7043 non-null   object \n",
            " 6   MultipleLines     7043 non-null   object \n",
            " 7   InternetService   7043 non-null   object \n",
            " 8   OnlineSecurity    7043 non-null   object \n",
            " 9   OnlineBackup      7043 non-null   object \n",
            " 10  DeviceProtection  7043 non-null   object \n",
            " 11  TechSupport       7043 non-null   object \n",
            " 12  StreamingTV       7043 non-null   object \n",
            " 13  StreamingMovies   7043 non-null   object \n",
            " 14  Contract          7043 non-null   object \n",
            " 15  PaperlessBilling  7043 non-null   object \n",
            " 16  PaymentMethod     7043 non-null   object \n",
            " 17  MonthlyCharges    7043 non-null   float64\n",
            " 18  TotalCharges      7043 non-null   float64\n",
            " 19  Churn             7043 non-null   object \n",
            "dtypes: float64(2), int64(2), object(16)\n",
            "memory usage: 1.1+ MB\n"
          ],
          "name": "stdout"
        }
      ]
    },
    {
      "cell_type": "code",
      "metadata": {
        "id": "KGA5Tq_AQIsH"
      },
      "source": [
        "#separate numerical type column and object type column from dataset and hold\n",
        "#this data into new dataset named as df_num and df_cat respectively\n",
        "df_num=df.select_dtypes([\"float64\",\"int64\"])\n",
        "df_cat=df.select_dtypes(\"object\")"
      ],
      "execution_count": 20,
      "outputs": []
    },
    {
      "cell_type": "code",
      "metadata": {
        "id": "VgEPHEXpQIsI"
      },
      "source": [
        "#apply LabelEncoder\n",
        "from sklearn.preprocessing import LabelEncoder\n",
        "for col in df_cat:\n",
        "    #create object of LabelEncoder\n",
        "    le=LabelEncoder()\n",
        "    df_cat[col] = le.fit_transform(df_cat[col])"
      ],
      "execution_count": 21,
      "outputs": []
    },
    {
      "cell_type": "code",
      "metadata": {
        "colab": {
          "base_uri": "https://localhost:8080/",
          "height": 217
        },
        "id": "93-p25NZQIsI",
        "outputId": "92879d71-7892-42ff-ef90-900ab1384807"
      },
      "source": [
        "#check\n",
        "df_cat.head()"
      ],
      "execution_count": 22,
      "outputs": [
        {
          "output_type": "execute_result",
          "data": {
            "text/html": [
              "<div>\n",
              "<style scoped>\n",
              "    .dataframe tbody tr th:only-of-type {\n",
              "        vertical-align: middle;\n",
              "    }\n",
              "\n",
              "    .dataframe tbody tr th {\n",
              "        vertical-align: top;\n",
              "    }\n",
              "\n",
              "    .dataframe thead th {\n",
              "        text-align: right;\n",
              "    }\n",
              "</style>\n",
              "<table border=\"1\" class=\"dataframe\">\n",
              "  <thead>\n",
              "    <tr style=\"text-align: right;\">\n",
              "      <th></th>\n",
              "      <th>gender</th>\n",
              "      <th>Partner</th>\n",
              "      <th>Dependents</th>\n",
              "      <th>PhoneService</th>\n",
              "      <th>MultipleLines</th>\n",
              "      <th>InternetService</th>\n",
              "      <th>OnlineSecurity</th>\n",
              "      <th>OnlineBackup</th>\n",
              "      <th>DeviceProtection</th>\n",
              "      <th>TechSupport</th>\n",
              "      <th>StreamingTV</th>\n",
              "      <th>StreamingMovies</th>\n",
              "      <th>Contract</th>\n",
              "      <th>PaperlessBilling</th>\n",
              "      <th>PaymentMethod</th>\n",
              "      <th>Churn</th>\n",
              "    </tr>\n",
              "  </thead>\n",
              "  <tbody>\n",
              "    <tr>\n",
              "      <th>0</th>\n",
              "      <td>0</td>\n",
              "      <td>1</td>\n",
              "      <td>0</td>\n",
              "      <td>0</td>\n",
              "      <td>1</td>\n",
              "      <td>0</td>\n",
              "      <td>0</td>\n",
              "      <td>2</td>\n",
              "      <td>0</td>\n",
              "      <td>0</td>\n",
              "      <td>0</td>\n",
              "      <td>0</td>\n",
              "      <td>0</td>\n",
              "      <td>1</td>\n",
              "      <td>2</td>\n",
              "      <td>0</td>\n",
              "    </tr>\n",
              "    <tr>\n",
              "      <th>1</th>\n",
              "      <td>1</td>\n",
              "      <td>0</td>\n",
              "      <td>0</td>\n",
              "      <td>1</td>\n",
              "      <td>0</td>\n",
              "      <td>0</td>\n",
              "      <td>2</td>\n",
              "      <td>0</td>\n",
              "      <td>2</td>\n",
              "      <td>0</td>\n",
              "      <td>0</td>\n",
              "      <td>0</td>\n",
              "      <td>1</td>\n",
              "      <td>0</td>\n",
              "      <td>3</td>\n",
              "      <td>0</td>\n",
              "    </tr>\n",
              "    <tr>\n",
              "      <th>2</th>\n",
              "      <td>1</td>\n",
              "      <td>0</td>\n",
              "      <td>0</td>\n",
              "      <td>1</td>\n",
              "      <td>0</td>\n",
              "      <td>0</td>\n",
              "      <td>2</td>\n",
              "      <td>2</td>\n",
              "      <td>0</td>\n",
              "      <td>0</td>\n",
              "      <td>0</td>\n",
              "      <td>0</td>\n",
              "      <td>0</td>\n",
              "      <td>1</td>\n",
              "      <td>3</td>\n",
              "      <td>1</td>\n",
              "    </tr>\n",
              "    <tr>\n",
              "      <th>3</th>\n",
              "      <td>1</td>\n",
              "      <td>0</td>\n",
              "      <td>0</td>\n",
              "      <td>0</td>\n",
              "      <td>1</td>\n",
              "      <td>0</td>\n",
              "      <td>2</td>\n",
              "      <td>0</td>\n",
              "      <td>2</td>\n",
              "      <td>2</td>\n",
              "      <td>0</td>\n",
              "      <td>0</td>\n",
              "      <td>1</td>\n",
              "      <td>0</td>\n",
              "      <td>0</td>\n",
              "      <td>0</td>\n",
              "    </tr>\n",
              "    <tr>\n",
              "      <th>4</th>\n",
              "      <td>0</td>\n",
              "      <td>0</td>\n",
              "      <td>0</td>\n",
              "      <td>1</td>\n",
              "      <td>0</td>\n",
              "      <td>1</td>\n",
              "      <td>0</td>\n",
              "      <td>0</td>\n",
              "      <td>0</td>\n",
              "      <td>0</td>\n",
              "      <td>0</td>\n",
              "      <td>0</td>\n",
              "      <td>0</td>\n",
              "      <td>1</td>\n",
              "      <td>2</td>\n",
              "      <td>1</td>\n",
              "    </tr>\n",
              "  </tbody>\n",
              "</table>\n",
              "</div>"
            ],
            "text/plain": [
              "   gender  Partner  Dependents  PhoneService  MultipleLines  InternetService  \\\n",
              "0       0        1           0             0              1                0   \n",
              "1       1        0           0             1              0                0   \n",
              "2       1        0           0             1              0                0   \n",
              "3       1        0           0             0              1                0   \n",
              "4       0        0           0             1              0                1   \n",
              "\n",
              "   OnlineSecurity  OnlineBackup  DeviceProtection  TechSupport  StreamingTV  \\\n",
              "0               0             2                 0            0            0   \n",
              "1               2             0                 2            0            0   \n",
              "2               2             2                 0            0            0   \n",
              "3               2             0                 2            2            0   \n",
              "4               0             0                 0            0            0   \n",
              "\n",
              "   StreamingMovies  Contract  PaperlessBilling  PaymentMethod  Churn  \n",
              "0                0         0                 1              2      0  \n",
              "1                0         1                 0              3      0  \n",
              "2                0         0                 1              3      1  \n",
              "3                0         1                 0              0      0  \n",
              "4                0         0                 1              2      1  "
            ]
          },
          "metadata": {
            "tags": []
          },
          "execution_count": 22
        }
      ]
    },
    {
      "cell_type": "code",
      "metadata": {
        "colab": {
          "base_uri": "https://localhost:8080/",
          "height": 217
        },
        "id": "PG0pCBCUQIsJ",
        "outputId": "bffe499e-a860-43b5-8fb3-662fad16a18b"
      },
      "source": [
        "#to concatenate df_num,df_cat and hold in new data frame df_new\n",
        "df_new = pd.concat([df_num,df_cat],axis=1)\n",
        "df_new.head()"
      ],
      "execution_count": 23,
      "outputs": [
        {
          "output_type": "execute_result",
          "data": {
            "text/html": [
              "<div>\n",
              "<style scoped>\n",
              "    .dataframe tbody tr th:only-of-type {\n",
              "        vertical-align: middle;\n",
              "    }\n",
              "\n",
              "    .dataframe tbody tr th {\n",
              "        vertical-align: top;\n",
              "    }\n",
              "\n",
              "    .dataframe thead th {\n",
              "        text-align: right;\n",
              "    }\n",
              "</style>\n",
              "<table border=\"1\" class=\"dataframe\">\n",
              "  <thead>\n",
              "    <tr style=\"text-align: right;\">\n",
              "      <th></th>\n",
              "      <th>SeniorCitizen</th>\n",
              "      <th>tenure</th>\n",
              "      <th>MonthlyCharges</th>\n",
              "      <th>TotalCharges</th>\n",
              "      <th>gender</th>\n",
              "      <th>Partner</th>\n",
              "      <th>Dependents</th>\n",
              "      <th>PhoneService</th>\n",
              "      <th>MultipleLines</th>\n",
              "      <th>InternetService</th>\n",
              "      <th>OnlineSecurity</th>\n",
              "      <th>OnlineBackup</th>\n",
              "      <th>DeviceProtection</th>\n",
              "      <th>TechSupport</th>\n",
              "      <th>StreamingTV</th>\n",
              "      <th>StreamingMovies</th>\n",
              "      <th>Contract</th>\n",
              "      <th>PaperlessBilling</th>\n",
              "      <th>PaymentMethod</th>\n",
              "      <th>Churn</th>\n",
              "    </tr>\n",
              "  </thead>\n",
              "  <tbody>\n",
              "    <tr>\n",
              "      <th>0</th>\n",
              "      <td>0</td>\n",
              "      <td>1</td>\n",
              "      <td>29.85</td>\n",
              "      <td>29.85</td>\n",
              "      <td>0</td>\n",
              "      <td>1</td>\n",
              "      <td>0</td>\n",
              "      <td>0</td>\n",
              "      <td>1</td>\n",
              "      <td>0</td>\n",
              "      <td>0</td>\n",
              "      <td>2</td>\n",
              "      <td>0</td>\n",
              "      <td>0</td>\n",
              "      <td>0</td>\n",
              "      <td>0</td>\n",
              "      <td>0</td>\n",
              "      <td>1</td>\n",
              "      <td>2</td>\n",
              "      <td>0</td>\n",
              "    </tr>\n",
              "    <tr>\n",
              "      <th>1</th>\n",
              "      <td>0</td>\n",
              "      <td>34</td>\n",
              "      <td>56.95</td>\n",
              "      <td>1889.50</td>\n",
              "      <td>1</td>\n",
              "      <td>0</td>\n",
              "      <td>0</td>\n",
              "      <td>1</td>\n",
              "      <td>0</td>\n",
              "      <td>0</td>\n",
              "      <td>2</td>\n",
              "      <td>0</td>\n",
              "      <td>2</td>\n",
              "      <td>0</td>\n",
              "      <td>0</td>\n",
              "      <td>0</td>\n",
              "      <td>1</td>\n",
              "      <td>0</td>\n",
              "      <td>3</td>\n",
              "      <td>0</td>\n",
              "    </tr>\n",
              "    <tr>\n",
              "      <th>2</th>\n",
              "      <td>0</td>\n",
              "      <td>2</td>\n",
              "      <td>53.85</td>\n",
              "      <td>108.15</td>\n",
              "      <td>1</td>\n",
              "      <td>0</td>\n",
              "      <td>0</td>\n",
              "      <td>1</td>\n",
              "      <td>0</td>\n",
              "      <td>0</td>\n",
              "      <td>2</td>\n",
              "      <td>2</td>\n",
              "      <td>0</td>\n",
              "      <td>0</td>\n",
              "      <td>0</td>\n",
              "      <td>0</td>\n",
              "      <td>0</td>\n",
              "      <td>1</td>\n",
              "      <td>3</td>\n",
              "      <td>1</td>\n",
              "    </tr>\n",
              "    <tr>\n",
              "      <th>3</th>\n",
              "      <td>0</td>\n",
              "      <td>45</td>\n",
              "      <td>42.30</td>\n",
              "      <td>1840.75</td>\n",
              "      <td>1</td>\n",
              "      <td>0</td>\n",
              "      <td>0</td>\n",
              "      <td>0</td>\n",
              "      <td>1</td>\n",
              "      <td>0</td>\n",
              "      <td>2</td>\n",
              "      <td>0</td>\n",
              "      <td>2</td>\n",
              "      <td>2</td>\n",
              "      <td>0</td>\n",
              "      <td>0</td>\n",
              "      <td>1</td>\n",
              "      <td>0</td>\n",
              "      <td>0</td>\n",
              "      <td>0</td>\n",
              "    </tr>\n",
              "    <tr>\n",
              "      <th>4</th>\n",
              "      <td>0</td>\n",
              "      <td>2</td>\n",
              "      <td>70.70</td>\n",
              "      <td>151.65</td>\n",
              "      <td>0</td>\n",
              "      <td>0</td>\n",
              "      <td>0</td>\n",
              "      <td>1</td>\n",
              "      <td>0</td>\n",
              "      <td>1</td>\n",
              "      <td>0</td>\n",
              "      <td>0</td>\n",
              "      <td>0</td>\n",
              "      <td>0</td>\n",
              "      <td>0</td>\n",
              "      <td>0</td>\n",
              "      <td>0</td>\n",
              "      <td>1</td>\n",
              "      <td>2</td>\n",
              "      <td>1</td>\n",
              "    </tr>\n",
              "  </tbody>\n",
              "</table>\n",
              "</div>"
            ],
            "text/plain": [
              "   SeniorCitizen  tenure  MonthlyCharges  TotalCharges  gender  Partner  \\\n",
              "0              0       1           29.85         29.85       0        1   \n",
              "1              0      34           56.95       1889.50       1        0   \n",
              "2              0       2           53.85        108.15       1        0   \n",
              "3              0      45           42.30       1840.75       1        0   \n",
              "4              0       2           70.70        151.65       0        0   \n",
              "\n",
              "   Dependents  PhoneService  MultipleLines  InternetService  OnlineSecurity  \\\n",
              "0           0             0              1                0               0   \n",
              "1           0             1              0                0               2   \n",
              "2           0             1              0                0               2   \n",
              "3           0             0              1                0               2   \n",
              "4           0             1              0                1               0   \n",
              "\n",
              "   OnlineBackup  DeviceProtection  TechSupport  StreamingTV  StreamingMovies  \\\n",
              "0             2                 0            0            0                0   \n",
              "1             0                 2            0            0                0   \n",
              "2             2                 0            0            0                0   \n",
              "3             0                 2            2            0                0   \n",
              "4             0                 0            0            0                0   \n",
              "\n",
              "   Contract  PaperlessBilling  PaymentMethod  Churn  \n",
              "0         0                 1              2      0  \n",
              "1         1                 0              3      0  \n",
              "2         0                 1              3      1  \n",
              "3         1                 0              0      0  \n",
              "4         0                 1              2      1  "
            ]
          },
          "metadata": {
            "tags": []
          },
          "execution_count": 23
        }
      ]
    },
    {
      "cell_type": "code",
      "metadata": {
        "id": "3zuEbKVAQIsK"
      },
      "source": [
        "#separate input and output variable from df_new dataframe: \n",
        "X=df_new.drop(\"Churn\",axis=1) #input variable\n",
        "Y=df_new[\"Churn\"] #Target variable"
      ],
      "execution_count": 24,
      "outputs": []
    },
    {
      "cell_type": "code",
      "metadata": {
        "id": "bjZSm2QfQIsK"
      },
      "source": [
        "from sklearn.model_selection import train_test_split\n",
        "X_train,X_test,Y_train,Y_test=train_test_split(X,Y,test_size=0.3,random_state=1)"
      ],
      "execution_count": 25,
      "outputs": []
    },
    {
      "cell_type": "code",
      "metadata": {
        "id": "KlsyrhtRQIsL"
      },
      "source": [
        "#train : use fit()\n",
        "#test : predict()\n",
        "#classification problem : report generate : use classification_report()\n",
        "#user defined function create\n",
        "def create_model(model):\n",
        "    model.fit(X_train,Y_train)#we train the model\n",
        "    y_pred=model.predict(X_test) #test\n",
        "    print(classification_report(Y_test,y_pred))\n",
        "    print(\"Confusion Matrix : \")\n",
        "    print(confusion_matrix(Y_test,y_pred))\n",
        "    return model"
      ],
      "execution_count": 26,
      "outputs": []
    },
    {
      "cell_type": "code",
      "metadata": {
        "id": "KNgPy7jZQIsM"
      },
      "source": [
        "from sklearn.metrics import classification_report\n",
        "from sklearn.metrics import confusion_matrix"
      ],
      "execution_count": 27,
      "outputs": []
    },
    {
      "cell_type": "code",
      "metadata": {
        "id": "kV3AgESAQIsO"
      },
      "source": [
        "#Base Line Model means use Logistic Regression(we predict yes/no values then \n",
        "#use classification algorithm)\n",
        "\n",
        "from sklearn.linear_model import LogisticRegression"
      ],
      "execution_count": 28,
      "outputs": []
    },
    {
      "cell_type": "code",
      "metadata": {
        "id": "EAw7DrQJQIsQ"
      },
      "source": [
        "#create the object of LogisticRegression class\n",
        "lr=LogisticRegression()"
      ],
      "execution_count": 29,
      "outputs": []
    },
    {
      "cell_type": "code",
      "metadata": {
        "colab": {
          "base_uri": "https://localhost:8080/"
        },
        "id": "XLigAsrxQIsR",
        "outputId": "0b5a5c92-fb9e-4c56-eda4-fb2d325c181d"
      },
      "source": [
        "#call function \n",
        "create_model(lr)"
      ],
      "execution_count": 30,
      "outputs": [
        {
          "output_type": "stream",
          "text": [
            "              precision    recall  f1-score   support\n",
            "\n",
            "           0       0.86      0.88      0.87      1585\n",
            "           1       0.62      0.58      0.60       528\n",
            "\n",
            "    accuracy                           0.81      2113\n",
            "   macro avg       0.74      0.73      0.74      2113\n",
            "weighted avg       0.80      0.81      0.81      2113\n",
            "\n",
            "Confusion Matrix : \n",
            "[[1398  187]\n",
            " [ 220  308]]\n"
          ],
          "name": "stdout"
        },
        {
          "output_type": "execute_result",
          "data": {
            "text/plain": [
              "LogisticRegression(C=1.0, class_weight=None, dual=False, fit_intercept=True,\n",
              "                   intercept_scaling=1, l1_ratio=None, max_iter=100,\n",
              "                   multi_class='auto', n_jobs=None, penalty='l2',\n",
              "                   random_state=None, solver='lbfgs', tol=0.0001, verbose=0,\n",
              "                   warm_start=False)"
            ]
          },
          "metadata": {
            "tags": []
          },
          "execution_count": 30
        }
      ]
    },
    {
      "cell_type": "code",
      "metadata": {
        "colab": {
          "base_uri": "https://localhost:8080/"
        },
        "id": "A6xzJADbQIsS",
        "outputId": "86f882f8-192d-4d07-a9e9-0bc013ba32e2"
      },
      "source": [
        "#Here data is imbalance means more difference between yes and no data of\n",
        "#target\n",
        "df[\"Churn\"].value_counts()"
      ],
      "execution_count": 31,
      "outputs": [
        {
          "output_type": "execute_result",
          "data": {
            "text/plain": [
              "No     5174\n",
              "Yes    1869\n",
              "Name: Churn, dtype: int64"
            ]
          },
          "metadata": {
            "tags": []
          },
          "execution_count": 31
        }
      ]
    },
    {
      "cell_type": "code",
      "metadata": {
        "id": "o_YMXWgrQIsS"
      },
      "source": [
        "#Here No : Majority class   and yes : Minority class  means data is imbalance\n",
        "#so we have to balance the output variable\n",
        "# to Balance the target variable then used sampling technique : -\n",
        "#There are 2 types of sampling technique : -\n",
        "# 1. Random Under Sampling\n",
        "# 2. Random over sampling"
      ],
      "execution_count": 32,
      "outputs": []
    },
    {
      "cell_type": "code",
      "metadata": {
        "id": "qqXWjhqOQIsT"
      },
      "source": [
        "#First install imblearn  inbuilt package of python but not installed in juypter notebook\n",
        "#we install the package imblearn  for sampling technique\n",
        "#!pip install imblearn"
      ],
      "execution_count": 33,
      "outputs": []
    },
    {
      "cell_type": "code",
      "metadata": {
        "id": "qBGzF_jiXX9C"
      },
      "source": [
        "#First install imblearn  inbuilt package of python but not installed in juypter notebook\r\n",
        "#we install the package imblearn  for sampling technique\r\n",
        "#!pip install imblearn\r\n",
        "\r\n",
        "\r\n"
      ],
      "execution_count": 34,
      "outputs": []
    },
    {
      "cell_type": "markdown",
      "metadata": {
        "id": "1IhPPyJ-XkDe"
      },
      "source": [
        "'''If you have basically reducing the majority class that is known as Uns=der sampling \r\n",
        "and if you are increasing the minority class that is known as over sampling '''\r\n"
      ]
    },
    {
      "cell_type": "code",
      "metadata": {
        "id": "5VOROVw5QIsV"
      },
      "source": [
        "\r\n",
        " #If you have basically reducing the majority class that is known as Under sampling \r\n",
        "\r\n",
        "from imblearn.under_sampling import RandomUnderSampler"
      ],
      "execution_count": 35,
      "outputs": []
    },
    {
      "cell_type": "code",
      "metadata": {
        "id": "VCn-XA75QIsV"
      },
      "source": [
        "#if converts majority class to minority class  then use RandomUnderSampler \r\n",
        "#Here in this dataset : Majority class : No  and Minority class : Yes\r\n",
        "#create object of  RandomUnderSampler() class\r\n",
        "rus = RandomUnderSampler()"
      ],
      "execution_count": 36,
      "outputs": []
    },
    {
      "cell_type": "code",
      "metadata": {
        "colab": {
          "base_uri": "https://localhost:8080/"
        },
        "id": "qX_0aTP5YDGW",
        "outputId": "32086281-0c61-4e62-dc24-04daa05cc28d"
      },
      "source": [
        "#we have target : 70% : Y_train means training data and 30# : Y_test means testing data\r\n",
        "pd.Series(Y_train).value_counts()"
      ],
      "execution_count": 37,
      "outputs": [
        {
          "output_type": "execute_result",
          "data": {
            "text/plain": [
              "0    3589\n",
              "1    1341\n",
              "Name: Churn, dtype: int64"
            ]
          },
          "metadata": {
            "tags": []
          },
          "execution_count": 37
        }
      ]
    },
    {
      "cell_type": "code",
      "metadata": {
        "id": "ohrXNB1yY6in"
      },
      "source": [
        "#fit_sample() inbuilt function which define RandomUnderSampler class and pass training data\r\n",
        "#we have X_train and Y_train (70%)\r\n",
        "X_sample_train,Y_sample_train = rus.fit_sample(X_train,Y_train) "
      ],
      "execution_count": 38,
      "outputs": []
    },
    {
      "cell_type": "code",
      "metadata": {
        "colab": {
          "base_uri": "https://localhost:8080/"
        },
        "id": "bF5JnbEtaOpG",
        "outputId": "875819ad-1af9-4b3e-869a-4e93481a7b2c"
      },
      "source": [
        "#check \r\n",
        "pd.Series(Y_sample_train).value_counts()"
      ],
      "execution_count": 39,
      "outputs": [
        {
          "output_type": "execute_result",
          "data": {
            "text/plain": [
              "1    1341\n",
              "0    1341\n",
              "dtype: int64"
            ]
          },
          "metadata": {
            "tags": []
          },
          "execution_count": 39
        }
      ]
    },
    {
      "cell_type": "code",
      "metadata": {
        "colab": {
          "base_uri": "https://localhost:8080/"
        },
        "id": "YgsPhgmuaSOp",
        "outputId": "e199807b-e78b-4594-ce7d-9932a3ff0446"
      },
      "source": [
        "#Testing data 30% \r\n",
        "pd.Series(Y_test).value_counts() #this is unbalance "
      ],
      "execution_count": 40,
      "outputs": [
        {
          "output_type": "execute_result",
          "data": {
            "text/plain": [
              "0    1585\n",
              "1     528\n",
              "Name: Churn, dtype: int64"
            ]
          },
          "metadata": {
            "tags": []
          },
          "execution_count": 40
        }
      ]
    },
    {
      "cell_type": "code",
      "metadata": {
        "id": "E5vDpJw8bmY2"
      },
      "source": [
        "#fit_sample() inbuilt function which define RandomUnderSampler class and pass testing data\r\n",
        "#we have X_test and Y_test (70%)\r\n",
        "X_sample_test,Y_sample_test = rus.fit_sample(X_test,Y_test) "
      ],
      "execution_count": 41,
      "outputs": []
    },
    {
      "cell_type": "code",
      "metadata": {
        "colab": {
          "base_uri": "https://localhost:8080/"
        },
        "id": "cUl2wT4xb8Ux",
        "outputId": "c9a73d05-cac1-4db7-d9b2-7b39856cf12b"
      },
      "source": [
        "#Testing data 30% \r\n",
        "pd.Series(Y_sample_test).value_counts() #this is unbalance "
      ],
      "execution_count": 42,
      "outputs": [
        {
          "output_type": "execute_result",
          "data": {
            "text/plain": [
              "1    528\n",
              "0    528\n",
              "dtype: int64"
            ]
          },
          "metadata": {
            "tags": []
          },
          "execution_count": 42
        }
      ]
    },
    {
      "cell_type": "code",
      "metadata": {
        "id": "aVOa1jPScE5W"
      },
      "source": [
        "#we train the model with the help og Logistic regression after apply randomundersampler\r\n",
        "#we create the object of Logistic Regression class\r\n",
        "lr=LogisticRegression()"
      ],
      "execution_count": 43,
      "outputs": []
    },
    {
      "cell_type": "code",
      "metadata": {
        "id": "RWxsWfScc2zk"
      },
      "source": [
        "#train : use fit()\r\n",
        "#test : predict()\r\n",
        "#classification problem : report generate : use classification_report()\r\n",
        "#user defined function create\r\n",
        "def create_model1(model):\r\n",
        "    model.fit(X_sample_train,Y_sample_train)#we train the model\r\n",
        "    y_pred=model.predict(X_sample_test) #test\r\n",
        "    print(classification_report(Y_sample_test,y_pred))\r\n",
        "    print(\"Confusion Matrix : \")\r\n",
        "    print(confusion_matrix(Y_sample_test,y_pred))\r\n",
        "    return model"
      ],
      "execution_count": 44,
      "outputs": []
    },
    {
      "cell_type": "code",
      "metadata": {
        "colab": {
          "base_uri": "https://localhost:8080/"
        },
        "id": "USSQVrbHdZOT",
        "outputId": "a81e3159-3762-42cf-e0c9-ba9d3a5f29d3"
      },
      "source": [
        "\r\n",
        "#call function\r\n",
        "create_model1(lr)"
      ],
      "execution_count": 45,
      "outputs": [
        {
          "output_type": "stream",
          "text": [
            "              precision    recall  f1-score   support\n",
            "\n",
            "           0       0.79      0.74      0.76       528\n",
            "           1       0.76      0.81      0.78       528\n",
            "\n",
            "    accuracy                           0.77      1056\n",
            "   macro avg       0.77      0.77      0.77      1056\n",
            "weighted avg       0.77      0.77      0.77      1056\n",
            "\n",
            "Confusion Matrix : \n",
            "[[390 138]\n",
            " [102 426]]\n"
          ],
          "name": "stdout"
        },
        {
          "output_type": "execute_result",
          "data": {
            "text/plain": [
              "LogisticRegression(C=1.0, class_weight=None, dual=False, fit_intercept=True,\n",
              "                   intercept_scaling=1, l1_ratio=None, max_iter=100,\n",
              "                   multi_class='auto', n_jobs=None, penalty='l2',\n",
              "                   random_state=None, solver='lbfgs', tol=0.0001, verbose=0,\n",
              "                   warm_start=False)"
            ]
          },
          "metadata": {
            "tags": []
          },
          "execution_count": 45
        }
      ]
    },
    {
      "cell_type": "code",
      "metadata": {
        "id": "DElvEgFCdkHQ"
      },
      "source": [
        "#Apply decisionTreeClassifier : this is select algorithm of classification ,Its help to select imp\r\n",
        "#features to predict the o/p , not done manually data analysis to slect imp features\r\n",
        "from sklearn.tree import DecisionTreeClassifier"
      ],
      "execution_count": 46,
      "outputs": []
    },
    {
      "cell_type": "code",
      "metadata": {
        "id": "7Tg5HWHwfbeg"
      },
      "source": [
        "#create the object of DecisionTreeClassifier class\r\n",
        "dt1=DecisionTreeClassifier() #by default gini index method to select imp features"
      ],
      "execution_count": 47,
      "outputs": []
    },
    {
      "cell_type": "code",
      "metadata": {
        "colab": {
          "base_uri": "https://localhost:8080/"
        },
        "id": "9HYh3neVftw8",
        "outputId": "1d44e38e-47f4-45a7-9448-d0caae789c33"
      },
      "source": [
        "#call function create_model1\r\n",
        "dt1=create_model1(dt1)"
      ],
      "execution_count": 48,
      "outputs": [
        {
          "output_type": "stream",
          "text": [
            "              precision    recall  f1-score   support\n",
            "\n",
            "           0       0.68      0.70      0.69       528\n",
            "           1       0.69      0.67      0.68       528\n",
            "\n",
            "    accuracy                           0.68      1056\n",
            "   macro avg       0.68      0.68      0.68      1056\n",
            "weighted avg       0.68      0.68      0.68      1056\n",
            "\n",
            "Confusion Matrix : \n",
            "[[368 160]\n",
            " [173 355]]\n"
          ],
          "name": "stdout"
        }
      ]
    },
    {
      "cell_type": "code",
      "metadata": {
        "colab": {
          "base_uri": "https://localhost:8080/"
        },
        "id": "I83AGLKpgc0F",
        "outputId": "ac977247-8eff-44c0-f392-4f88e0bd29dd"
      },
      "source": [
        "#here recall for 1 : 0.71 it is good but not better means model is overfit\r\n",
        "dt1.feature_importances_ # to show reduction of all input features"
      ],
      "execution_count": 49,
      "outputs": [
        {
          "output_type": "execute_result",
          "data": {
            "text/plain": [
              "array([0.01331994, 0.10980302, 0.22855825, 0.18811384, 0.02976109,\n",
              "       0.02057844, 0.0130616 , 0.00671514, 0.01786654, 0.0082016 ,\n",
              "       0.01506055, 0.01182732, 0.00882496, 0.02233424, 0.01159684,\n",
              "       0.01401986, 0.2134924 , 0.02316283, 0.04370153])"
            ]
          },
          "metadata": {
            "tags": []
          },
          "execution_count": 49
        }
      ]
    },
    {
      "cell_type": "code",
      "metadata": {
        "colab": {
          "base_uri": "https://localhost:8080/"
        },
        "id": "r5bSz1kKgz42",
        "outputId": "e875b392-3dda-48d7-b678-9becb6c14e1c"
      },
      "source": [
        "X.columns"
      ],
      "execution_count": 50,
      "outputs": [
        {
          "output_type": "execute_result",
          "data": {
            "text/plain": [
              "Index(['SeniorCitizen', 'tenure', 'MonthlyCharges', 'TotalCharges', 'gender',\n",
              "       'Partner', 'Dependents', 'PhoneService', 'MultipleLines',\n",
              "       'InternetService', 'OnlineSecurity', 'OnlineBackup', 'DeviceProtection',\n",
              "       'TechSupport', 'StreamingTV', 'StreamingMovies', 'Contract',\n",
              "       'PaperlessBilling', 'PaymentMethod'],\n",
              "      dtype='object')"
            ]
          },
          "metadata": {
            "tags": []
          },
          "execution_count": 50
        }
      ]
    },
    {
      "cell_type": "code",
      "metadata": {
        "id": "QHhEsbccg8d-"
      },
      "source": [
        "from sklearn import tree"
      ],
      "execution_count": 51,
      "outputs": []
    },
    {
      "cell_type": "code",
      "metadata": {
        "id": "mPhQGo7_hmn8"
      },
      "source": [
        "features=X.columns"
      ],
      "execution_count": 52,
      "outputs": []
    },
    {
      "cell_type": "code",
      "metadata": {
        "colab": {
          "base_uri": "https://localhost:8080/",
          "height": 53
        },
        "id": "R73mIurdhuCE",
        "outputId": "11bc74ce-3ff1-44d8-95fd-197aa5486c0d"
      },
      "source": [
        "'''fig=plt.figure(figsize=(23,25))\r\n",
        "_=tree.plot_tree(dt1,feature_names=features,filled=True)'''"
      ],
      "execution_count": 53,
      "outputs": [
        {
          "output_type": "execute_result",
          "data": {
            "application/vnd.google.colaboratory.intrinsic+json": {
              "type": "string"
            },
            "text/plain": [
              "'fig=plt.figure(figsize=(23,25))\\n_=tree.plot_tree(dt1,feature_names=features,filled=True)'"
            ]
          },
          "metadata": {
            "tags": []
          },
          "execution_count": 53
        }
      ]
    },
    {
      "cell_type": "code",
      "metadata": {
        "id": "oaT9ICTgJ1PI"
      },
      "source": [
        "#recall =0.70 means model is overfit , to reduced / remove overfit problem so apply pruning technique\r\n",
        "#in decisiontreeclassifier class\r\n",
        "#1. max_depth parameter : it cannot >8 \r\n",
        "#create the object of DecisionTreeClassifier class\r\n",
        "dt2=DecisionTreeClassifier(max_depth=4) #by default gini index"
      ],
      "execution_count": 54,
      "outputs": []
    },
    {
      "cell_type": "code",
      "metadata": {
        "colab": {
          "base_uri": "https://localhost:8080/"
        },
        "id": "dLZVVTFKTLR_",
        "outputId": "9c084dde-171d-4ed9-c299-a6edd3df76f7"
      },
      "source": [
        "#call function \r\n",
        "dt2=create_model1(dt2)"
      ],
      "execution_count": 55,
      "outputs": [
        {
          "output_type": "stream",
          "text": [
            "              precision    recall  f1-score   support\n",
            "\n",
            "           0       0.77      0.72      0.75       528\n",
            "           1       0.74      0.79      0.76       528\n",
            "\n",
            "    accuracy                           0.75      1056\n",
            "   macro avg       0.76      0.75      0.75      1056\n",
            "weighted avg       0.76      0.75      0.75      1056\n",
            "\n",
            "Confusion Matrix : \n",
            "[[382 146]\n",
            " [113 415]]\n"
          ],
          "name": "stdout"
        }
      ]
    },
    {
      "cell_type": "code",
      "metadata": {
        "colab": {
          "base_uri": "https://localhost:8080/"
        },
        "id": "wP2A7R1eTyuI",
        "outputId": "cdceda2d-b7b6-4121-c101-3c63882aabe4"
      },
      "source": [
        "F=dt2.feature_importances_\r\n",
        "print(np.round(F,2))"
      ],
      "execution_count": 56,
      "outputs": [
        {
          "output_type": "stream",
          "text": [
            "[0.   0.08 0.14 0.06 0.   0.   0.   0.02 0.02 0.02 0.   0.   0.   0.02\n",
            " 0.   0.01 0.63 0.   0.  ]\n"
          ],
          "name": "stdout"
        }
      ]
    },
    {
      "cell_type": "code",
      "metadata": {
        "colab": {
          "base_uri": "https://localhost:8080/"
        },
        "id": "6trovuADU6Th",
        "outputId": "a7c2765d-0f84-4c22-e59c-3af7a7093b94"
      },
      "source": [
        "X.columns"
      ],
      "execution_count": 57,
      "outputs": [
        {
          "output_type": "execute_result",
          "data": {
            "text/plain": [
              "Index(['SeniorCitizen', 'tenure', 'MonthlyCharges', 'TotalCharges', 'gender',\n",
              "       'Partner', 'Dependents', 'PhoneService', 'MultipleLines',\n",
              "       'InternetService', 'OnlineSecurity', 'OnlineBackup', 'DeviceProtection',\n",
              "       'TechSupport', 'StreamingTV', 'StreamingMovies', 'Contract',\n",
              "       'PaperlessBilling', 'PaymentMethod'],\n",
              "      dtype='object')"
            ]
          },
          "metadata": {
            "tags": []
          },
          "execution_count": 57
        }
      ]
    },
    {
      "cell_type": "code",
      "metadata": {
        "colab": {
          "base_uri": "https://localhost:8080/",
          "height": 53
        },
        "id": "m8Rka4uhVObO",
        "outputId": "d14a2bdc-63af-4000-ab19-66183cf74501"
      },
      "source": [
        "'''fig=plt.figure(figsize=(23,25))\r\n",
        "_=tree.plot_tree(dt2,feature_names=features,filled=True)'''"
      ],
      "execution_count": 58,
      "outputs": [
        {
          "output_type": "execute_result",
          "data": {
            "application/vnd.google.colaboratory.intrinsic+json": {
              "type": "string"
            },
            "text/plain": [
              "'fig=plt.figure(figsize=(23,25))\\n_=tree.plot_tree(dt2,feature_names=features,filled=True)'"
            ]
          },
          "metadata": {
            "tags": []
          },
          "execution_count": 58
        }
      ]
    },
    {
      "cell_type": "code",
      "metadata": {
        "id": "n43Pa4sYVDZ8"
      },
      "source": [
        "#Ada Boost apply : - This is ensembling technique \r\n",
        "from sklearn.ensemble import AdaBoostClassifier"
      ],
      "execution_count": 59,
      "outputs": []
    },
    {
      "cell_type": "code",
      "metadata": {
        "id": "38qxyIitXNZp"
      },
      "source": [
        "#create the object of AdaBoostClassifier \r\n",
        "ada=AdaBoostClassifier(n_estimators=85) #n_estimators=100 : this is parameter (it is used for iteration)\r\n",
        "#we define 100 , can be <=100 ,adaboost creates a decisionstump(decisiontree)"
      ],
      "execution_count": 60,
      "outputs": []
    },
    {
      "cell_type": "code",
      "metadata": {
        "colab": {
          "base_uri": "https://localhost:8080/"
        },
        "id": "fIRl2uIeZavi",
        "outputId": "85996f35-6fd1-4563-d0f1-b4585d9a8a83"
      },
      "source": [
        "#call function after apply randomundersampler \r\n",
        "create_model1(ada)"
      ],
      "execution_count": 61,
      "outputs": [
        {
          "output_type": "stream",
          "text": [
            "              precision    recall  f1-score   support\n",
            "\n",
            "           0       0.80      0.73      0.77       528\n",
            "           1       0.76      0.82      0.79       528\n",
            "\n",
            "    accuracy                           0.78      1056\n",
            "   macro avg       0.78      0.78      0.78      1056\n",
            "weighted avg       0.78      0.78      0.78      1056\n",
            "\n",
            "Confusion Matrix : \n",
            "[[388 140]\n",
            " [ 94 434]]\n"
          ],
          "name": "stdout"
        },
        {
          "output_type": "execute_result",
          "data": {
            "text/plain": [
              "AdaBoostClassifier(algorithm='SAMME.R', base_estimator=None, learning_rate=1.0,\n",
              "                   n_estimators=85, random_state=None)"
            ]
          },
          "metadata": {
            "tags": []
          },
          "execution_count": 61
        }
      ]
    },
    {
      "cell_type": "code",
      "metadata": {
        "id": "0KTmIT2naABS"
      },
      "source": [
        "#2. Gradient Boosting \r\n",
        "from sklearn.ensemble import GradientBoostingClassifier "
      ],
      "execution_count": 62,
      "outputs": []
    },
    {
      "cell_type": "code",
      "metadata": {
        "id": "MRx14wUVav9P"
      },
      "source": [
        "#create the object of GradientBoostingClassifier class\r\n",
        "gbc=GradientBoostingClassifier(n_estimators=75) #no. of iterations <=100 use algo. decisiontreeclassifier"
      ],
      "execution_count": 63,
      "outputs": []
    },
    {
      "cell_type": "code",
      "metadata": {
        "colab": {
          "base_uri": "https://localhost:8080/"
        },
        "id": "VzXseNZ2bO5S",
        "outputId": "6bdf7d09-41f4-4f62-bc10-8b0287dd530b"
      },
      "source": [
        "#call function\r\n",
        "create_model1(gbc)"
      ],
      "execution_count": 64,
      "outputs": [
        {
          "output_type": "stream",
          "text": [
            "              precision    recall  f1-score   support\n",
            "\n",
            "           0       0.81      0.74      0.77       528\n",
            "           1       0.76      0.82      0.79       528\n",
            "\n",
            "    accuracy                           0.78      1056\n",
            "   macro avg       0.78      0.78      0.78      1056\n",
            "weighted avg       0.78      0.78      0.78      1056\n",
            "\n",
            "Confusion Matrix : \n",
            "[[389 139]\n",
            " [ 93 435]]\n"
          ],
          "name": "stdout"
        },
        {
          "output_type": "execute_result",
          "data": {
            "text/plain": [
              "GradientBoostingClassifier(ccp_alpha=0.0, criterion='friedman_mse', init=None,\n",
              "                           learning_rate=0.1, loss='deviance', max_depth=3,\n",
              "                           max_features=None, max_leaf_nodes=None,\n",
              "                           min_impurity_decrease=0.0, min_impurity_split=None,\n",
              "                           min_samples_leaf=1, min_samples_split=2,\n",
              "                           min_weight_fraction_leaf=0.0, n_estimators=75,\n",
              "                           n_iter_no_change=None, presort='deprecated',\n",
              "                           random_state=None, subsample=1.0, tol=0.0001,\n",
              "                           validation_fraction=0.1, verbose=0,\n",
              "                           warm_start=False)"
            ]
          },
          "metadata": {
            "tags": []
          },
          "execution_count": 64
        }
      ]
    },
    {
      "cell_type": "code",
      "metadata": {
        "id": "nNcfS-rCdCD8"
      },
      "source": [
        "#Extreme gradient Boosting (XGB) : it a better version of Gradient boosting\r\n",
        "from xgboost import XGBClassifier  #call xgboost inbuilt package "
      ],
      "execution_count": 65,
      "outputs": []
    },
    {
      "cell_type": "code",
      "metadata": {
        "id": "LUmyeX_Vey6w"
      },
      "source": [
        "#create the object of XGBClassifier class\r\n",
        "xgb=XGBClassifier(n_estimators=100,reg_alpha=1) #reg_alpha=1 means automatic handle overfitting situation and\r\n",
        "#outlier "
      ],
      "execution_count": 66,
      "outputs": []
    },
    {
      "cell_type": "code",
      "metadata": {
        "colab": {
          "base_uri": "https://localhost:8080/"
        },
        "id": "P4VxazqlfWsm",
        "outputId": "4c87f8f5-2b67-4bae-8ee2-df4caf9710b8"
      },
      "source": [
        "#call function\r\n",
        "create_model1(xgb)"
      ],
      "execution_count": 67,
      "outputs": [
        {
          "output_type": "stream",
          "text": [
            "              precision    recall  f1-score   support\n",
            "\n",
            "           0       0.81      0.74      0.78       528\n",
            "           1       0.76      0.83      0.80       528\n",
            "\n",
            "    accuracy                           0.79      1056\n",
            "   macro avg       0.79      0.79      0.79      1056\n",
            "weighted avg       0.79      0.79      0.79      1056\n",
            "\n",
            "Confusion Matrix : \n",
            "[[391 137]\n",
            " [ 89 439]]\n"
          ],
          "name": "stdout"
        },
        {
          "output_type": "execute_result",
          "data": {
            "text/plain": [
              "XGBClassifier(base_score=0.5, booster='gbtree', colsample_bylevel=1,\n",
              "              colsample_bynode=1, colsample_bytree=1, gamma=0,\n",
              "              learning_rate=0.1, max_delta_step=0, max_depth=3,\n",
              "              min_child_weight=1, missing=None, n_estimators=100, n_jobs=1,\n",
              "              nthread=None, objective='binary:logistic', random_state=0,\n",
              "              reg_alpha=1, reg_lambda=1, scale_pos_weight=1, seed=None,\n",
              "              silent=None, subsample=1, verbosity=1)"
            ]
          },
          "metadata": {
            "tags": []
          },
          "execution_count": 67
        }
      ]
    },
    {
      "cell_type": "code",
      "metadata": {
        "id": "y2-WHDIgf5wQ"
      },
      "source": [
        "#Apply another ensembling tech :  randomforesttree : use decisiontree\r\n",
        "from sklearn.ensemble import RandomForestClassifier  #use decisiontree"
      ],
      "execution_count": 68,
      "outputs": []
    },
    {
      "cell_type": "code",
      "metadata": {
        "colab": {
          "base_uri": "https://localhost:8080/"
        },
        "id": "UOlaH-V9gpY8",
        "outputId": "9b170b9c-ec08-45ce-939d-2a5f19fc86f0"
      },
      "source": [
        "#create object of RandomForestClassifier class\r\n",
        "rfc=RandomForestClassifier(n_estimators=100,max_features=2,random_state=1)#here n_estimators is a parameter\r\n",
        "#which show no. of decisiontree (how many decisiontree) and max_features means max imp input select\r\n",
        "X.shape"
      ],
      "execution_count": 69,
      "outputs": [
        {
          "output_type": "execute_result",
          "data": {
            "text/plain": [
              "(7043, 19)"
            ]
          },
          "metadata": {
            "tags": []
          },
          "execution_count": 69
        }
      ]
    },
    {
      "cell_type": "code",
      "metadata": {
        "colab": {
          "base_uri": "https://localhost:8080/"
        },
        "id": "5Fv4lifjiYoA",
        "outputId": "87ada494-0cc1-430f-afe5-58793166523a"
      },
      "source": [
        "\r\n",
        "#call function\r\n",
        "create_model1(rfc)"
      ],
      "execution_count": 70,
      "outputs": [
        {
          "output_type": "stream",
          "text": [
            "              precision    recall  f1-score   support\n",
            "\n",
            "           0       0.79      0.75      0.77       528\n",
            "           1       0.76      0.80      0.78       528\n",
            "\n",
            "    accuracy                           0.77      1056\n",
            "   macro avg       0.77      0.77      0.77      1056\n",
            "weighted avg       0.77      0.77      0.77      1056\n",
            "\n",
            "Confusion Matrix : \n",
            "[[395 133]\n",
            " [107 421]]\n"
          ],
          "name": "stdout"
        },
        {
          "output_type": "execute_result",
          "data": {
            "text/plain": [
              "RandomForestClassifier(bootstrap=True, ccp_alpha=0.0, class_weight=None,\n",
              "                       criterion='gini', max_depth=None, max_features=2,\n",
              "                       max_leaf_nodes=None, max_samples=None,\n",
              "                       min_impurity_decrease=0.0, min_impurity_split=None,\n",
              "                       min_samples_leaf=1, min_samples_split=2,\n",
              "                       min_weight_fraction_leaf=0.0, n_estimators=100,\n",
              "                       n_jobs=None, oob_score=False, random_state=1, verbose=0,\n",
              "                       warm_start=False)"
            ]
          },
          "metadata": {
            "tags": []
          },
          "execution_count": 70
        }
      ]
    },
    {
      "cell_type": "code",
      "metadata": {
        "id": "kLtNf97VjH0H"
      },
      "source": [
        "#Random Over Sampling : - we increase the minority class means creates the duplicate rows of yes class (minority)\r\n",
        "#class and equal to majority class means no class \r\n",
        "#If we are increasing the minority class that is known as over sampling .\r\n",
        "#call class inbuilt class RandomOverSampling : - define in imblearn package \r\n",
        "\r\n",
        "from imblearn.over_sampling import RandomOverSampler"
      ],
      "execution_count": 71,
      "outputs": []
    },
    {
      "cell_type": "code",
      "metadata": {
        "id": "NpXeSI-Dl42o"
      },
      "source": [
        "#create object of  RandomOverSampler() class\r\n",
        "ros = RandomOverSampler()"
      ],
      "execution_count": 72,
      "outputs": []
    },
    {
      "cell_type": "code",
      "metadata": {
        "id": "dV8p97F-mEW1"
      },
      "source": [
        "#fit_sample() inbuilt function which define RandomOverSampler class and pass training data\r\n",
        "#we have X_train and Y_train (70%)\r\n",
        "X_sample_train1,Y_sample_train1 = ros.fit_sample(X_train,Y_train) "
      ],
      "execution_count": 73,
      "outputs": []
    },
    {
      "cell_type": "code",
      "metadata": {
        "colab": {
          "base_uri": "https://localhost:8080/"
        },
        "id": "CzpEfHS7mWvJ",
        "outputId": "b1852fb9-d4b7-4854-933c-f50a42eaf91b"
      },
      "source": [
        "#check \r\n",
        "pd.Series(Y_sample_train1).value_counts()"
      ],
      "execution_count": 74,
      "outputs": [
        {
          "output_type": "execute_result",
          "data": {
            "text/plain": [
              "1    3589\n",
              "0    3589\n",
              "dtype: int64"
            ]
          },
          "metadata": {
            "tags": []
          },
          "execution_count": 74
        }
      ]
    },
    {
      "cell_type": "code",
      "metadata": {
        "colab": {
          "base_uri": "https://localhost:8080/"
        },
        "id": "XsLjFHVgmfHG",
        "outputId": "a9a5a8be-abe0-4600-c67f-74ca649a22e7"
      },
      "source": [
        "#Testing data 30% \r\n",
        "pd.Series(Y_test).value_counts() #this is unbalance "
      ],
      "execution_count": 75,
      "outputs": [
        {
          "output_type": "execute_result",
          "data": {
            "text/plain": [
              "0    1585\n",
              "1     528\n",
              "Name: Churn, dtype: int64"
            ]
          },
          "metadata": {
            "tags": []
          },
          "execution_count": 75
        }
      ]
    },
    {
      "cell_type": "code",
      "metadata": {
        "id": "-JnVf-jrm09P"
      },
      "source": [
        "#fit_sample() inbuilt function which define RandomUnderSampler class and pass testing data\r\n",
        "#we have X_test and Y_test (70%)\r\n",
        "X_sample_test1,Y_sample_test1 = ros.fit_sample(X_test,Y_test) "
      ],
      "execution_count": 76,
      "outputs": []
    },
    {
      "cell_type": "code",
      "metadata": {
        "colab": {
          "base_uri": "https://localhost:8080/"
        },
        "id": "4FnrUSzQnupP",
        "outputId": "59165240-1f3c-4658-ea80-b4c04f0a82ad"
      },
      "source": [
        "#Testing data 30% \r\n",
        "pd.Series(Y_sample_test1).value_counts() #this is unbalance "
      ],
      "execution_count": 77,
      "outputs": [
        {
          "output_type": "execute_result",
          "data": {
            "text/plain": [
              "1    1585\n",
              "0    1585\n",
              "dtype: int64"
            ]
          },
          "metadata": {
            "tags": []
          },
          "execution_count": 77
        }
      ]
    },
    {
      "cell_type": "code",
      "metadata": {
        "id": "WtudWYlknxZo"
      },
      "source": [
        "#train : use fit()\r\n",
        "#test : predict()\r\n",
        "#classification problem : report generate : use classification_report()\r\n",
        "#user defined function create\r\n",
        "def create_model2(model):\r\n",
        "    model.fit(X_sample_train1,Y_sample_train1)#we train the model\r\n",
        "    y_pred=model.predict(X_sample_test1) #test\r\n",
        "    print(classification_report(Y_sample_test1,y_pred))\r\n",
        "    print(\"Confusion Matrix : \")\r\n",
        "    print(confusion_matrix(Y_sample_test1,y_pred))\r\n",
        "    return model"
      ],
      "execution_count": 78,
      "outputs": []
    },
    {
      "cell_type": "code",
      "metadata": {
        "id": "-NfLXYPfoDYk"
      },
      "source": [
        "#we train the model with the help og Logistic regression after apply randomOverrsampler\r\n",
        "#we create the object of Logistic Regression class\r\n",
        "#Use base line model of classification algorithm : Logistic Regression\r\n",
        "lr1=LogisticRegression()"
      ],
      "execution_count": 79,
      "outputs": []
    },
    {
      "cell_type": "code",
      "metadata": {
        "colab": {
          "base_uri": "https://localhost:8080/"
        },
        "id": "6nO-6J6LoKW9",
        "outputId": "0411c095-64df-417b-cd5d-049f8aba29d1"
      },
      "source": [
        "#call function\r\n",
        "create_model2(lr1)"
      ],
      "execution_count": 80,
      "outputs": [
        {
          "output_type": "stream",
          "text": [
            "              precision    recall  f1-score   support\n",
            "\n",
            "           0       0.80      0.74      0.77      1585\n",
            "           1       0.76      0.81      0.78      1585\n",
            "\n",
            "    accuracy                           0.78      3170\n",
            "   macro avg       0.78      0.78      0.78      3170\n",
            "weighted avg       0.78      0.78      0.78      3170\n",
            "\n",
            "Confusion Matrix : \n",
            "[[1174  411]\n",
            " [ 298 1287]]\n"
          ],
          "name": "stdout"
        },
        {
          "output_type": "execute_result",
          "data": {
            "text/plain": [
              "LogisticRegression(C=1.0, class_weight=None, dual=False, fit_intercept=True,\n",
              "                   intercept_scaling=1, l1_ratio=None, max_iter=100,\n",
              "                   multi_class='auto', n_jobs=None, penalty='l2',\n",
              "                   random_state=None, solver='lbfgs', tol=0.0001, verbose=0,\n",
              "                   warm_start=False)"
            ]
          },
          "metadata": {
            "tags": []
          },
          "execution_count": 80
        }
      ]
    },
    {
      "cell_type": "code",
      "metadata": {
        "id": "xFlOUiF5oQeh"
      },
      "source": [
        "#create the object of DecisionTreeClassifier class\r\n",
        "dt3=DecisionTreeClassifier() #by default gini index method to select imp features"
      ],
      "execution_count": 81,
      "outputs": []
    },
    {
      "cell_type": "code",
      "metadata": {
        "colab": {
          "base_uri": "https://localhost:8080/"
        },
        "id": "pf1obPc4qVyS",
        "outputId": "19706291-fd3c-4907-83ec-bf920cc3d926"
      },
      "source": [
        "#call function\r\n",
        "create_model2(dt3)"
      ],
      "execution_count": 82,
      "outputs": [
        {
          "output_type": "stream",
          "text": [
            "              precision    recall  f1-score   support\n",
            "\n",
            "           0       0.63      0.82      0.71      1585\n",
            "           1       0.74      0.52      0.61      1585\n",
            "\n",
            "    accuracy                           0.67      3170\n",
            "   macro avg       0.68      0.67      0.66      3170\n",
            "weighted avg       0.68      0.67      0.66      3170\n",
            "\n",
            "Confusion Matrix : \n",
            "[[1294  291]\n",
            " [ 761  824]]\n"
          ],
          "name": "stdout"
        },
        {
          "output_type": "execute_result",
          "data": {
            "text/plain": [
              "DecisionTreeClassifier(ccp_alpha=0.0, class_weight=None, criterion='gini',\n",
              "                       max_depth=None, max_features=None, max_leaf_nodes=None,\n",
              "                       min_impurity_decrease=0.0, min_impurity_split=None,\n",
              "                       min_samples_leaf=1, min_samples_split=2,\n",
              "                       min_weight_fraction_leaf=0.0, presort='deprecated',\n",
              "                       random_state=None, splitter='best')"
            ]
          },
          "metadata": {
            "tags": []
          },
          "execution_count": 82
        }
      ]
    },
    {
      "cell_type": "code",
      "metadata": {
        "id": "roqMi69xqY9b"
      },
      "source": [
        "#create the object of DecisionTreeClassifier class\r\n",
        "dt4=DecisionTreeClassifier(max_depth=4) #by default gini index method to select imp features"
      ],
      "execution_count": 83,
      "outputs": []
    },
    {
      "cell_type": "code",
      "metadata": {
        "colab": {
          "base_uri": "https://localhost:8080/"
        },
        "id": "zp6mY0mLqlYM",
        "outputId": "2953b73b-bf1b-43e0-9982-dd382b1f9474"
      },
      "source": [
        "#call function\r\n",
        "create_model2(dt4)"
      ],
      "execution_count": 84,
      "outputs": [
        {
          "output_type": "stream",
          "text": [
            "              precision    recall  f1-score   support\n",
            "\n",
            "           0       0.79      0.74      0.76      1585\n",
            "           1       0.75      0.80      0.78      1585\n",
            "\n",
            "    accuracy                           0.77      3170\n",
            "   macro avg       0.77      0.77      0.77      3170\n",
            "weighted avg       0.77      0.77      0.77      3170\n",
            "\n",
            "Confusion Matrix : \n",
            "[[1171  414]\n",
            " [ 317 1268]]\n"
          ],
          "name": "stdout"
        },
        {
          "output_type": "execute_result",
          "data": {
            "text/plain": [
              "DecisionTreeClassifier(ccp_alpha=0.0, class_weight=None, criterion='gini',\n",
              "                       max_depth=4, max_features=None, max_leaf_nodes=None,\n",
              "                       min_impurity_decrease=0.0, min_impurity_split=None,\n",
              "                       min_samples_leaf=1, min_samples_split=2,\n",
              "                       min_weight_fraction_leaf=0.0, presort='deprecated',\n",
              "                       random_state=None, splitter='best')"
            ]
          },
          "metadata": {
            "tags": []
          },
          "execution_count": 84
        }
      ]
    },
    {
      "cell_type": "code",
      "metadata": {
        "id": "v8He7eiQrOCm"
      },
      "source": [
        "#create the object of AdaBoostClassifier \r\n",
        "ada1=AdaBoostClassifier(n_estimators=25) #n_estimators=100 : this is parameter (it is used for iteration)\r\n",
        "#we define 100 , can be <=100 ,adaboost creates a decisionstump(decisiontree)"
      ],
      "execution_count": 85,
      "outputs": []
    },
    {
      "cell_type": "code",
      "metadata": {
        "colab": {
          "base_uri": "https://localhost:8080/"
        },
        "id": "ZHQk933vrqjb",
        "outputId": "467c1db4-298c-40d2-fe4c-dc98dabe23bd"
      },
      "source": [
        "#call function\r\n",
        "create_model2(ada1)"
      ],
      "execution_count": 86,
      "outputs": [
        {
          "output_type": "stream",
          "text": [
            "              precision    recall  f1-score   support\n",
            "\n",
            "           0       0.81      0.72      0.77      1585\n",
            "           1       0.75      0.83      0.79      1585\n",
            "\n",
            "    accuracy                           0.78      3170\n",
            "   macro avg       0.78      0.78      0.78      3170\n",
            "weighted avg       0.78      0.78      0.78      3170\n",
            "\n",
            "Confusion Matrix : \n",
            "[[1149  436]\n",
            " [ 264 1321]]\n"
          ],
          "name": "stdout"
        },
        {
          "output_type": "execute_result",
          "data": {
            "text/plain": [
              "AdaBoostClassifier(algorithm='SAMME.R', base_estimator=None, learning_rate=1.0,\n",
              "                   n_estimators=25, random_state=None)"
            ]
          },
          "metadata": {
            "tags": []
          },
          "execution_count": 86
        }
      ]
    },
    {
      "cell_type": "code",
      "metadata": {
        "id": "ek2HrSPRrsYw"
      },
      "source": [
        "#create the object of GradientBoostingClassifier class\r\n",
        "gbc1=GradientBoostingClassifier(n_estimators=30) #no. of iterations <=100 use algo. decisiontreeclassifier"
      ],
      "execution_count": 87,
      "outputs": []
    },
    {
      "cell_type": "code",
      "metadata": {
        "colab": {
          "base_uri": "https://localhost:8080/"
        },
        "id": "TdRgxrg5sggx",
        "outputId": "34623e4c-3e8b-41fd-86ac-7d7f3eb80276"
      },
      "source": [
        "#call function\r\n",
        "create_model2(gbc1)"
      ],
      "execution_count": 88,
      "outputs": [
        {
          "output_type": "stream",
          "text": [
            "              precision    recall  f1-score   support\n",
            "\n",
            "           0       0.79      0.73      0.76      1585\n",
            "           1       0.75      0.81      0.78      1585\n",
            "\n",
            "    accuracy                           0.77      3170\n",
            "   macro avg       0.77      0.77      0.77      3170\n",
            "weighted avg       0.77      0.77      0.77      3170\n",
            "\n",
            "Confusion Matrix : \n",
            "[[1156  429]\n",
            " [ 306 1279]]\n"
          ],
          "name": "stdout"
        },
        {
          "output_type": "execute_result",
          "data": {
            "text/plain": [
              "GradientBoostingClassifier(ccp_alpha=0.0, criterion='friedman_mse', init=None,\n",
              "                           learning_rate=0.1, loss='deviance', max_depth=3,\n",
              "                           max_features=None, max_leaf_nodes=None,\n",
              "                           min_impurity_decrease=0.0, min_impurity_split=None,\n",
              "                           min_samples_leaf=1, min_samples_split=2,\n",
              "                           min_weight_fraction_leaf=0.0, n_estimators=30,\n",
              "                           n_iter_no_change=None, presort='deprecated',\n",
              "                           random_state=None, subsample=1.0, tol=0.0001,\n",
              "                           validation_fraction=0.1, verbose=0,\n",
              "                           warm_start=False)"
            ]
          },
          "metadata": {
            "tags": []
          },
          "execution_count": 88
        }
      ]
    },
    {
      "cell_type": "code",
      "metadata": {
        "id": "h7ZBmf-iskOx"
      },
      "source": [
        "#create the object of XGBClassifier class\r\n",
        "xgb1=XGBClassifier(n_estimators=25,reg_alpha=1) #reg_alpha=1 means automatic handle overfitting situation and\r\n",
        "#outlier "
      ],
      "execution_count": 89,
      "outputs": []
    },
    {
      "cell_type": "code",
      "metadata": {
        "colab": {
          "base_uri": "https://localhost:8080/"
        },
        "id": "GZnBFV05tB_F",
        "outputId": "a935a5fd-71d8-4c44-f086-f60b35243fe7"
      },
      "source": [
        "#call function\r\n",
        "create_model2(xgb1)"
      ],
      "execution_count": 90,
      "outputs": [
        {
          "output_type": "stream",
          "text": [
            "              precision    recall  f1-score   support\n",
            "\n",
            "           0       0.80      0.72      0.76      1585\n",
            "           1       0.75      0.82      0.78      1585\n",
            "\n",
            "    accuracy                           0.77      3170\n",
            "   macro avg       0.78      0.77      0.77      3170\n",
            "weighted avg       0.78      0.77      0.77      3170\n",
            "\n",
            "Confusion Matrix : \n",
            "[[1149  436]\n",
            " [ 284 1301]]\n"
          ],
          "name": "stdout"
        },
        {
          "output_type": "execute_result",
          "data": {
            "text/plain": [
              "XGBClassifier(base_score=0.5, booster='gbtree', colsample_bylevel=1,\n",
              "              colsample_bynode=1, colsample_bytree=1, gamma=0,\n",
              "              learning_rate=0.1, max_delta_step=0, max_depth=3,\n",
              "              min_child_weight=1, missing=None, n_estimators=25, n_jobs=1,\n",
              "              nthread=None, objective='binary:logistic', random_state=0,\n",
              "              reg_alpha=1, reg_lambda=1, scale_pos_weight=1, seed=None,\n",
              "              silent=None, subsample=1, verbosity=1)"
            ]
          },
          "metadata": {
            "tags": []
          },
          "execution_count": 90
        }
      ]
    },
    {
      "cell_type": "code",
      "metadata": {
        "colab": {
          "base_uri": "https://localhost:8080/"
        },
        "id": "de8YrzV0tFis",
        "outputId": "02f0926a-9c3f-4000-ee27-b3d7527d220d"
      },
      "source": [
        "#create object of RandomForestClassifier class\r\n",
        "rfc1=RandomForestClassifier(n_estimators=100,max_features=4,random_state=1)#here n_estimators is a parameter\r\n",
        "#which show no. of decisiontree (how many decisiontree) and max_features means max imp input select\r\n",
        "X.shape"
      ],
      "execution_count": 91,
      "outputs": [
        {
          "output_type": "execute_result",
          "data": {
            "text/plain": [
              "(7043, 19)"
            ]
          },
          "metadata": {
            "tags": []
          },
          "execution_count": 91
        }
      ]
    },
    {
      "cell_type": "code",
      "metadata": {
        "colab": {
          "base_uri": "https://localhost:8080/"
        },
        "id": "Al8fb2zntmuT",
        "outputId": "002c3a70-061f-4c66-c1fc-3c1e9e47d021"
      },
      "source": [
        "#call function\r\n",
        "create_model2(rfc1)"
      ],
      "execution_count": 92,
      "outputs": [
        {
          "output_type": "stream",
          "text": [
            "              precision    recall  f1-score   support\n",
            "\n",
            "           0       0.69      0.84      0.76      1585\n",
            "           1       0.80      0.62      0.70      1585\n",
            "\n",
            "    accuracy                           0.73      3170\n",
            "   macro avg       0.74      0.73      0.73      3170\n",
            "weighted avg       0.74      0.73      0.73      3170\n",
            "\n",
            "Confusion Matrix : \n",
            "[[1335  250]\n",
            " [ 602  983]]\n"
          ],
          "name": "stdout"
        },
        {
          "output_type": "execute_result",
          "data": {
            "text/plain": [
              "RandomForestClassifier(bootstrap=True, ccp_alpha=0.0, class_weight=None,\n",
              "                       criterion='gini', max_depth=None, max_features=4,\n",
              "                       max_leaf_nodes=None, max_samples=None,\n",
              "                       min_impurity_decrease=0.0, min_impurity_split=None,\n",
              "                       min_samples_leaf=1, min_samples_split=2,\n",
              "                       min_weight_fraction_leaf=0.0, n_estimators=100,\n",
              "                       n_jobs=None, oob_score=False, random_state=1, verbose=0,\n",
              "                       warm_start=False)"
            ]
          },
          "metadata": {
            "tags": []
          },
          "execution_count": 92
        }
      ]
    },
    {
      "cell_type": "markdown",
      "metadata": {
        "id": "IFKBIxjytqwQ"
      },
      "source": [
        "# conclusion:\r\n",
        "Extreme gradient Boosting (XGBClassifier) algorithom with RandomUnderSampler technique is best for this dataset\r\n"
      ]
    },
    {
      "cell_type": "code",
      "metadata": {
        "id": "EKUcslBGvq2h"
      },
      "source": [
        ""
      ],
      "execution_count": null,
      "outputs": []
    }
  ]
}